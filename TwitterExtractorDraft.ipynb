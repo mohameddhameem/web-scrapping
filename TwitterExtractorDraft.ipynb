{
 "cells": [
  {
   "cell_type": "markdown",
   "metadata": {},
   "source": [
    "Code to download twitter based on the given keyword."
   ]
  },
  {
   "cell_type": "code",
   "execution_count": 1,
   "metadata": {},
   "outputs": [
    {
     "name": "stdout",
     "output_type": "stream",
     "text": [
      "Collecting tweepy\n",
      "  Downloading https://files.pythonhosted.org/packages/05/f1/2e8c7b202dd04117a378ac0c55cc7dafa80280ebd7f692f1fa8f27fd6288/tweepy-3.6.0-py2.py3-none-any.whl\n",
      "Collecting PySocks>=1.5.7 (from tweepy)\n",
      "  Downloading https://files.pythonhosted.org/packages/53/12/6bf1d764f128636cef7408e8156b7235b150ea31650d0260969215bb8e7d/PySocks-1.6.8.tar.gz (283kB)\n",
      "Requirement already satisfied: six>=1.10.0 in c:\\program files\\anaconda3\\lib\\site-packages (from tweepy)\n",
      "Requirement already satisfied: requests>=2.11.1 in c:\\program files\\anaconda3\\lib\\site-packages (from tweepy)\n",
      "Collecting requests-oauthlib>=0.7.0 (from tweepy)\n",
      "  Downloading https://files.pythonhosted.org/packages/94/e7/c250d122992e1561690d9c0f7856dadb79d61fd4bdd0e598087dce607f6c/requests_oauthlib-1.0.0-py2.py3-none-any.whl\n",
      "Collecting oauthlib>=0.6.2 (from requests-oauthlib>=0.7.0->tweepy)\n",
      "  Downloading https://files.pythonhosted.org/packages/e6/d1/ddd9cfea3e736399b97ded5c2dd62d1322adef4a72d816f1ed1049d6a179/oauthlib-2.1.0-py2.py3-none-any.whl (121kB)\n",
      "Building wheels for collected packages: PySocks\n",
      "  Running setup.py bdist_wheel for PySocks: started\n",
      "  Running setup.py bdist_wheel for PySocks: finished with status 'done'\n",
      "  Stored in directory: C:\\Users\\e0267553\\AppData\\Local\\pip\\Cache\\wheels\\22\\5c\\b5\\12e0dfdfa85bea67b23628b6425fae715c687e947a45ee3df9\n",
      "Successfully built PySocks\n",
      "Installing collected packages: PySocks, oauthlib, requests-oauthlib, tweepy\n"
     ]
    },
    {
     "name": "stderr",
     "output_type": "stream",
     "text": [
      "Exception:\n",
      "Traceback (most recent call last):\n",
      "  File \"C:\\Program Files\\Anaconda3\\lib\\site-packages\\pip\\basecommand.py\", line 215, in main\n",
      "    status = self.run(options, args)\n",
      "  File \"C:\\Program Files\\Anaconda3\\lib\\site-packages\\pip\\commands\\install.py\", line 342, in run\n",
      "    prefix=options.prefix_path,\n",
      "  File \"C:\\Program Files\\Anaconda3\\lib\\site-packages\\pip\\req\\req_set.py\", line 784, in install\n",
      "    **kwargs\n",
      "  File \"C:\\Program Files\\Anaconda3\\lib\\site-packages\\pip\\req\\req_install.py\", line 851, in install\n",
      "    self.move_wheel_files(self.source_dir, root=root, prefix=prefix)\n",
      "  File \"C:\\Program Files\\Anaconda3\\lib\\site-packages\\pip\\req\\req_install.py\", line 1064, in move_wheel_files\n",
      "    isolated=self.isolated,\n",
      "  File \"C:\\Program Files\\Anaconda3\\lib\\site-packages\\pip\\wheel.py\", line 345, in move_wheel_files\n",
      "    clobber(source, lib_dir, True)\n",
      "  File \"C:\\Program Files\\Anaconda3\\lib\\site-packages\\pip\\wheel.py\", line 323, in clobber\n",
      "    shutil.copyfile(srcfile, destfile)\n",
      "  File \"C:\\Program Files\\Anaconda3\\lib\\shutil.py\", line 121, in copyfile\n",
      "    with open(dst, 'wb') as fdst:\n",
      "PermissionError: [Errno 13] Permission denied: 'C:\\\\Program Files\\\\Anaconda3\\\\Lib\\\\site-packages\\\\socks.py'\n",
      "You are using pip version 9.0.1, however version 18.0 is available.\n",
      "You should consider upgrading via the 'python -m pip install --upgrade pip' command.\n"
     ]
    }
   ],
   "source": [
    "#install tweepy if its not already installed\n",
    "!pip install tweepy"
   ]
  },
  {
   "cell_type": "code",
   "execution_count": 3,
   "metadata": {
    "collapsed": true
   },
   "outputs": [],
   "source": [
    "import tweepy\n",
    "import json"
   ]
  },
  {
   "cell_type": "markdown",
   "metadata": {},
   "source": [
    "From twitter app, get the required key, secret, tocken and tocken secret"
   ]
  },
  {
   "cell_type": "code",
   "execution_count": 4,
   "metadata": {
    "collapsed": true
   },
   "outputs": [],
   "source": [
    "consumer_key = 'xxxxxxxxxxxxxxxxx'\n",
    "consumer_secret = 'xxxxxxxxxxxxxxxxxxxxxxx'\n",
    "access_token = 'xxxxxxxxxxxxxxxxxxxxxxxxxxxx'\n",
    "access_token_secret = 'xxxxxxxxxxxxxxxxxxxxxxxx'\n",
    "auth = tweepy.OAuthHandler(consumer_key, consumer_secret)\n",
    "auth.set_access_token(access_token, access_token_secret)"
   ]
  },
  {
   "cell_type": "markdown",
   "metadata": {},
   "source": [
    "Below class will be usefull to pass as param to the API call. "
   ]
  },
  {
   "cell_type": "code",
   "execution_count": 5,
   "metadata": {
    "collapsed": true
   },
   "outputs": [],
   "source": [
    "class MyStreamListener(tweepy.StreamListener):\n",
    "    def __init__(self, api=None):\n",
    "        super(MyStreamListener, self).__init__()\n",
    "        self.num_tweets = 0\n",
    "        self.file = open(\"tweets.txt\", \"w\")\n",
    "\n",
    "    def on_status(self, status):\n",
    "        tweet = status._json\n",
    "        print(self.num_tweets)\n",
    "        print(tweet)\n",
    "        self.file.write(json.dumps(tweet) + '\\n' )\n",
    "        self.num_tweets += 1\n",
    "        if self.num_tweets < 10:\n",
    "            return True\n",
    "        else:\n",
    "            return False\n",
    "        self.file.close()\n",
    "\n",
    "    def on_error(self, status):\n",
    "        print(status)"
   ]
  },
  {
   "cell_type": "code",
   "execution_count": null,
   "metadata": {
    "scrolled": true
   },
   "outputs": [
    {
     "name": "stdout",
     "output_type": "stream",
     "text": [
      "420\n",
      "0\n",
      "{'created_at': 'Sat Sep 01 06:35:31 +0000 2018', 'id': 1035778157570211841, 'id_str': '1035778157570211841', 'text': \"RT @PostModernAsura: Thirumurugan Gandhi will be brought to Allikulam Court in Egmore today at 12.45 PM. I'm putting this out so that Engli…\", 'source': '<a href=\"http://twitter.com/download/android\" rel=\"nofollow\">Twitter for Android</a>', 'truncated': False, 'in_reply_to_status_id': None, 'in_reply_to_status_id_str': None, 'in_reply_to_user_id': None, 'in_reply_to_user_id_str': None, 'in_reply_to_screen_name': None, 'user': {'id': 190645452, 'id_str': '190645452', 'name': 'se queda', 'screen_name': 'i_t_t_y', 'location': None, 'url': None, 'description': None, 'translator_type': 'none', 'protected': False, 'verified': False, 'followers_count': 191, 'friends_count': 615, 'listed_count': 12, 'favourites_count': 3407, 'statuses_count': 14688, 'created_at': 'Tue Sep 14 13:53:10 +0000 2010', 'utc_offset': None, 'time_zone': None, 'geo_enabled': False, 'lang': 'en', 'contributors_enabled': False, 'is_translator': False, 'profile_background_color': '181C1F', 'profile_background_image_url': 'http://abs.twimg.com/images/themes/theme18/bg.gif', 'profile_background_image_url_https': 'https://abs.twimg.com/images/themes/theme18/bg.gif', 'profile_background_tile': True, 'profile_link_color': '575E61', 'profile_sidebar_border_color': '454B52', 'profile_sidebar_fill_color': '0E1621', 'profile_text_color': 'CB9934', 'profile_use_background_image': True, 'profile_image_url': 'http://pbs.twimg.com/profile_images/908003379812614144/84dw4Q-i_normal.jpg', 'profile_image_url_https': 'https://pbs.twimg.com/profile_images/908003379812614144/84dw4Q-i_normal.jpg', 'profile_banner_url': 'https://pbs.twimg.com/profile_banners/190645452/1505319853', 'default_profile': False, 'default_profile_image': False, 'following': None, 'follow_request_sent': None, 'notifications': None}, 'geo': None, 'coordinates': None, 'place': None, 'contributors': None, 'retweeted_status': {'created_at': 'Fri Aug 31 05:14:49 +0000 2018', 'id': 1035395461560000515, 'id_str': '1035395461560000515', 'text': \"Thirumurugan Gandhi will be brought to Allikulam Court in Egmore today at 12.45 PM. I'm putting this out so that En… https://t.co/xOgdd7JJbF\", 'display_text_range': [0, 140], 'source': '<a href=\"http://twitter.com\" rel=\"nofollow\">Twitter Web Client</a>', 'truncated': True, 'in_reply_to_status_id': None, 'in_reply_to_status_id_str': None, 'in_reply_to_user_id': None, 'in_reply_to_user_id_str': None, 'in_reply_to_screen_name': None, 'user': {'id': 447308688, 'id_str': '447308688', 'name': '#RepealUAPA', 'screen_name': 'PostModernAsura', 'location': 'Tamilagam', 'url': None, 'description': 'சாதி மறுப்பு பொதுவுடைமை தமிழ் தேசியம்.', 'translator_type': 'none', 'protected': False, 'verified': False, 'followers_count': 1444, 'friends_count': 364, 'listed_count': 13, 'favourites_count': 5899, 'statuses_count': 11703, 'created_at': 'Mon Dec 26 18:55:38 +0000 2011', 'utc_offset': None, 'time_zone': None, 'geo_enabled': False, 'lang': 'en', 'contributors_enabled': False, 'is_translator': False, 'profile_background_color': 'C0DEED', 'profile_background_image_url': 'http://abs.twimg.com/images/themes/theme1/bg.png', 'profile_background_image_url_https': 'https://abs.twimg.com/images/themes/theme1/bg.png', 'profile_background_tile': False, 'profile_link_color': '1DA1F2', 'profile_sidebar_border_color': 'C0DEED', 'profile_sidebar_fill_color': 'DDEEF6', 'profile_text_color': '333333', 'profile_use_background_image': True, 'profile_image_url': 'http://pbs.twimg.com/profile_images/1034832394459611137/C8IdUWcq_normal.jpg', 'profile_image_url_https': 'https://pbs.twimg.com/profile_images/1034832394459611137/C8IdUWcq_normal.jpg', 'default_profile': True, 'default_profile_image': False, 'following': None, 'follow_request_sent': None, 'notifications': None}, 'geo': None, 'coordinates': None, 'place': None, 'contributors': None, 'quoted_status_id': 1035394408487641089, 'quoted_status_id_str': '1035394408487641089', 'quoted_status': {'created_at': 'Fri Aug 31 05:10:38 +0000 2018', 'id': 1035394408487641089, 'id_str': '1035394408487641089', 'text': 'திருமுருகன் காந்தி அவர்கள் UAPA வழக்கிற்காக இன்று 31-08-2018 எழும்பூர் அல்லிகுளம் நீதிமன்றத்திற்கு மதியம் 12:45 மணி… https://t.co/MG4TxqvqDV', 'source': '<a href=\"http://twitter.com/download/android\" rel=\"nofollow\">Twitter for Android</a>', 'truncated': True, 'in_reply_to_status_id': None, 'in_reply_to_status_id_str': None, 'in_reply_to_user_id': None, 'in_reply_to_user_id_str': None, 'in_reply_to_screen_name': None, 'user': {'id': 176751900, 'id_str': '176751900', 'name': 'Kalaivendhan Selvaraj', 'screen_name': 'Kalai_vendan', 'location': 'Chennai', 'url': None, 'description': 'விவசாயி மகன், தமிழ்த்தேசியம், பெரியாரியம், அம்பேத்கரியம், பொதுவுடைமை.\\nFarmer son, Tamil Nationalism, Periyarism, Ambedkarism, Communism.', 'translator_type': 'none', 'protected': False, 'verified': False, 'followers_count': 765, 'friends_count': 764, 'listed_count': 3, 'favourites_count': 6497, 'statuses_count': 2594, 'created_at': 'Tue Aug 10 10:16:40 +0000 2010', 'utc_offset': None, 'time_zone': None, 'geo_enabled': True, 'lang': 'en', 'contributors_enabled': False, 'is_translator': False, 'profile_background_color': '352726', 'profile_background_image_url': 'http://abs.twimg.com/images/themes/theme5/bg.gif', 'profile_background_image_url_https': 'https://abs.twimg.com/images/themes/theme5/bg.gif', 'profile_background_tile': True, 'profile_link_color': '4A913C', 'profile_sidebar_border_color': '829D5E', 'profile_sidebar_fill_color': '99CC33', 'profile_text_color': '3E4415', 'profile_use_background_image': True, 'profile_image_url': 'http://pbs.twimg.com/profile_images/974659807339716609/gjHdgPef_normal.jpg', 'profile_image_url_https': 'https://pbs.twimg.com/profile_images/974659807339716609/gjHdgPef_normal.jpg', 'profile_banner_url': 'https://pbs.twimg.com/profile_banners/176751900/1521075642', 'default_profile': False, 'default_profile_image': False, 'following': None, 'follow_request_sent': None, 'notifications': None}, 'geo': None, 'coordinates': None, 'place': None, 'contributors': None, 'is_quote_status': False, 'extended_tweet': {'full_text': 'திருமுருகன் காந்தி அவர்கள் UAPA வழக்கிற்காக இன்று 31-08-2018 எழும்பூர் அல்லிகுளம் நீதிமன்றத்திற்கு மதியம் 12:45 மணியளவில் அழைத்து வரப்படுகிறார். ஊடகவியலாளர்கள் அனைவரும் வந்து இந்த செய்தியை மக்களுக்கு கொண்டு சேர்க்க வேண்டுமென மே17 இயக்கம் சார்பில் கேட்டுக்கொள்கிறோம்.\\n9884072010', 'display_text_range': [0, 277], 'entities': {'hashtags': [], 'urls': [], 'user_mentions': [], 'symbols': []}}, 'quote_count': 2, 'reply_count': 0, 'retweet_count': 12, 'favorite_count': 21, 'entities': {'hashtags': [], 'urls': [{'url': 'https://t.co/MG4TxqvqDV', 'expanded_url': 'https://twitter.com/i/web/status/1035394408487641089', 'display_url': 'twitter.com/i/web/status/1…', 'indices': [117, 140]}], 'user_mentions': [], 'symbols': []}, 'favorited': False, 'retweeted': False, 'filter_level': 'low', 'lang': 'ta'}, 'quoted_status_permalink': {'url': 'https://t.co/50XKDdDTAX', 'expanded': 'https://twitter.com/Kalai_vendan/status/1035394408487641089', 'display': 'twitter.com/Kalai_vendan/s…'}, 'is_quote_status': True, 'extended_tweet': {'full_text': \"Thirumurugan Gandhi will be brought to Allikulam Court in Egmore today at 12.45 PM. I'm putting this out so that English Media reporters who showed interest with the thread on activists being arrested in TN could go and get statement from Thirumurugan Gandhi. Please go. https://t.co/50XKDdDTAX\", 'display_text_range': [0, 270], 'entities': {'hashtags': [], 'urls': [{'url': 'https://t.co/50XKDdDTAX', 'expanded_url': 'https://twitter.com/Kalai_vendan/status/1035394408487641089', 'display_url': 'twitter.com/Kalai_vendan/s…', 'indices': [271, 294]}], 'user_mentions': [], 'symbols': []}}, 'quote_count': 0, 'reply_count': 6, 'retweet_count': 56, 'favorite_count': 59, 'entities': {'hashtags': [], 'urls': [{'url': 'https://t.co/xOgdd7JJbF', 'expanded_url': 'https://twitter.com/i/web/status/1035395461560000515', 'display_url': 'twitter.com/i/web/status/1…', 'indices': [117, 140]}], 'user_mentions': [], 'symbols': []}, 'favorited': False, 'retweeted': False, 'possibly_sensitive': False, 'filter_level': 'low', 'lang': 'en'}, 'quoted_status_id': 1035394408487641089, 'quoted_status_id_str': '1035394408487641089', 'quoted_status': {'created_at': 'Fri Aug 31 05:10:38 +0000 2018', 'id': 1035394408487641089, 'id_str': '1035394408487641089', 'text': 'திருமுருகன் காந்தி அவர்கள் UAPA வழக்கிற்காக இன்று 31-08-2018 எழும்பூர் அல்லிகுளம் நீதிமன்றத்திற்கு மதியம் 12:45 மணி… https://t.co/MG4TxqvqDV', 'source': '<a href=\"http://twitter.com/download/android\" rel=\"nofollow\">Twitter for Android</a>', 'truncated': True, 'in_reply_to_status_id': None, 'in_reply_to_status_id_str': None, 'in_reply_to_user_id': None, 'in_reply_to_user_id_str': None, 'in_reply_to_screen_name': None, 'user': {'id': 176751900, 'id_str': '176751900', 'name': 'Kalaivendhan Selvaraj', 'screen_name': 'Kalai_vendan', 'location': 'Chennai', 'url': None, 'description': 'விவசாயி மகன், தமிழ்த்தேசியம், பெரியாரியம், அம்பேத்கரியம், பொதுவுடைமை.\\nFarmer son, Tamil Nationalism, Periyarism, Ambedkarism, Communism.', 'translator_type': 'none', 'protected': False, 'verified': False, 'followers_count': 765, 'friends_count': 764, 'listed_count': 3, 'favourites_count': 6497, 'statuses_count': 2594, 'created_at': 'Tue Aug 10 10:16:40 +0000 2010', 'utc_offset': None, 'time_zone': None, 'geo_enabled': True, 'lang': 'en', 'contributors_enabled': False, 'is_translator': False, 'profile_background_color': '352726', 'profile_background_image_url': 'http://abs.twimg.com/images/themes/theme5/bg.gif', 'profile_background_image_url_https': 'https://abs.twimg.com/images/themes/theme5/bg.gif', 'profile_background_tile': True, 'profile_link_color': '4A913C', 'profile_sidebar_border_color': '829D5E', 'profile_sidebar_fill_color': '99CC33', 'profile_text_color': '3E4415', 'profile_use_background_image': True, 'profile_image_url': 'http://pbs.twimg.com/profile_images/974659807339716609/gjHdgPef_normal.jpg', 'profile_image_url_https': 'https://pbs.twimg.com/profile_images/974659807339716609/gjHdgPef_normal.jpg', 'profile_banner_url': 'https://pbs.twimg.com/profile_banners/176751900/1521075642', 'default_profile': False, 'default_profile_image': False, 'following': None, 'follow_request_sent': None, 'notifications': None}, 'geo': None, 'coordinates': None, 'place': None, 'contributors': None, 'is_quote_status': False, 'extended_tweet': {'full_text': 'திருமுருகன் காந்தி அவர்கள் UAPA வழக்கிற்காக இன்று 31-08-2018 எழும்பூர் அல்லிகுளம் நீதிமன்றத்திற்கு மதியம் 12:45 மணியளவில் அழைத்து வரப்படுகிறார். ஊடகவியலாளர்கள் அனைவரும் வந்து இந்த செய்தியை மக்களுக்கு கொண்டு சேர்க்க வேண்டுமென மே17 இயக்கம் சார்பில் கேட்டுக்கொள்கிறோம்.\\n9884072010', 'display_text_range': [0, 277], 'entities': {'hashtags': [], 'urls': [], 'user_mentions': [], 'symbols': []}}, 'quote_count': 2, 'reply_count': 0, 'retweet_count': 12, 'favorite_count': 21, 'entities': {'hashtags': [], 'urls': [{'url': 'https://t.co/MG4TxqvqDV', 'expanded_url': 'https://twitter.com/i/web/status/1035394408487641089', 'display_url': 'twitter.com/i/web/status/1…', 'indices': [117, 140]}], 'user_mentions': [], 'symbols': []}, 'favorited': False, 'retweeted': False, 'filter_level': 'low', 'lang': 'ta'}, 'quoted_status_permalink': {'url': 'https://t.co/50XKDdDTAX', 'expanded': 'https://twitter.com/Kalai_vendan/status/1035394408487641089', 'display': 'twitter.com/Kalai_vendan/s…'}, 'is_quote_status': True, 'quote_count': 0, 'reply_count': 0, 'retweet_count': 0, 'favorite_count': 0, 'entities': {'hashtags': [], 'urls': [], 'user_mentions': [{'screen_name': 'PostModernAsura', 'name': '#RepealUAPA', 'id': 447308688, 'id_str': '447308688', 'indices': [3, 19]}], 'symbols': []}, 'favorited': False, 'retweeted': False, 'filter_level': 'low', 'lang': 'en', 'timestamp_ms': '1535783731249'}\n"
     ]
    },
    {
     "name": "stdout",
     "output_type": "stream",
     "text": [
      "1\n",
      "{'created_at': 'Sat Sep 01 06:44:19 +0000 2018', 'id': 1035780372204666880, 'id_str': '1035780372204666880', 'text': 'RT @Eshanputra_Om: Atrocious! Thirumurugan Gandhi wants to ban Vinayakar charuthi. these converts are trying to eradicate the Hindu culture…', 'source': '<a href=\"http://twitter.com/download/android\" rel=\"nofollow\">Twitter for Android</a>', 'truncated': False, 'in_reply_to_status_id': None, 'in_reply_to_status_id_str': None, 'in_reply_to_user_id': None, 'in_reply_to_user_id_str': None, 'in_reply_to_screen_name': None, 'user': {'id': 4164740712, 'id_str': '4164740712', 'name': 'KALKI AVATAR 1', 'screen_name': 'srinivasavenka1', 'location': 'Bengaluru, India', 'url': None, 'description': 'LIVE and LET LIVE.', 'translator_type': 'none', 'protected': False, 'verified': False, 'followers_count': 236, 'friends_count': 938, 'listed_count': 6, 'favourites_count': 1116, 'statuses_count': 9458, 'created_at': 'Sun Nov 08 05:20:53 +0000 2015', 'utc_offset': None, 'time_zone': None, 'geo_enabled': True, 'lang': 'en', 'contributors_enabled': False, 'is_translator': False, 'profile_background_color': 'C0DEED', 'profile_background_image_url': 'http://abs.twimg.com/images/themes/theme1/bg.png', 'profile_background_image_url_https': 'https://abs.twimg.com/images/themes/theme1/bg.png', 'profile_background_tile': False, 'profile_link_color': '1DA1F2', 'profile_sidebar_border_color': 'C0DEED', 'profile_sidebar_fill_color': 'DDEEF6', 'profile_text_color': '333333', 'profile_use_background_image': True, 'profile_image_url': 'http://pbs.twimg.com/profile_images/674483252640399360/nMIg-8-y_normal.jpg', 'profile_image_url_https': 'https://pbs.twimg.com/profile_images/674483252640399360/nMIg-8-y_normal.jpg', 'profile_banner_url': 'https://pbs.twimg.com/profile_banners/4164740712/1450159957', 'default_profile': True, 'default_profile_image': False, 'following': None, 'follow_request_sent': None, 'notifications': None}, 'geo': None, 'coordinates': None, 'place': None, 'contributors': None, 'retweeted_status': {'created_at': 'Fri Aug 31 12:09:57 +0000 2018', 'id': 1035499932830990337, 'id_str': '1035499932830990337', 'text': 'Atrocious! Thirumurugan Gandhi wants to ban Vinayakar charuthi. these converts are trying to eradicate the Hindu cu… https://t.co/zQYTFZrLoi', 'display_text_range': [0, 140], 'source': '<a href=\"http://twitter.com/download/android\" rel=\"nofollow\">Twitter for Android</a>', 'truncated': True, 'in_reply_to_status_id': None, 'in_reply_to_status_id_str': None, 'in_reply_to_user_id': None, 'in_reply_to_user_id_str': None, 'in_reply_to_screen_name': None, 'user': {'id': 53138912, 'id_str': '53138912', 'name': '🕉️Eshanputra_Om🇮🇳', 'screen_name': 'Eshanputra_Om', 'location': 'Chennai, Bharat', 'url': None, 'description': 'Advocate | Formula Racing Driver | Computer Engineer | Unapologetic Hindu | MODI | Jai Shri Ram 🕉️ | Kshatriya | தமிழன் | Followed by @PiyushGoyalOffc', 'translator_type': 'none', 'protected': False, 'verified': False, 'followers_count': 998, 'friends_count': 778, 'listed_count': 4, 'favourites_count': 31863, 'statuses_count': 28143, 'created_at': 'Thu Jul 02 18:06:57 +0000 2009', 'utc_offset': None, 'time_zone': None, 'geo_enabled': False, 'lang': 'en', 'contributors_enabled': False, 'is_translator': False, 'profile_background_color': '000000', 'profile_background_image_url': 'http://abs.twimg.com/images/themes/theme1/bg.png', 'profile_background_image_url_https': 'https://abs.twimg.com/images/themes/theme1/bg.png', 'profile_background_tile': False, 'profile_link_color': 'FF691F', 'profile_sidebar_border_color': '000000', 'profile_sidebar_fill_color': '000000', 'profile_text_color': '000000', 'profile_use_background_image': False, 'profile_image_url': 'http://pbs.twimg.com/profile_images/1018409562989199360/K1DxQloJ_normal.jpg', 'profile_image_url_https': 'https://pbs.twimg.com/profile_images/1018409562989199360/K1DxQloJ_normal.jpg', 'profile_banner_url': 'https://pbs.twimg.com/profile_banners/53138912/1523049144', 'default_profile': False, 'default_profile_image': False, 'following': None, 'follow_request_sent': None, 'notifications': None}, 'geo': None, 'coordinates': None, 'place': None, 'contributors': None, 'quoted_status_id': 1035330140136329216, 'quoted_status_id_str': '1035330140136329216', 'quoted_status': {'created_at': 'Fri Aug 31 00:55:15 +0000 2018', 'id': 1035330140136329216, 'id_str': '1035330140136329216', 'text': 'இப்போது புரிகிறதா!!!!! இவர்களை போன்றவர்கள் என்ன வேலை செய்து கொண்டு இருக்கிறார்கள் என்று.... விநாயகர் சதுர்த்தி நடத்… https://t.co/kpUl0DJaFW', 'display_text_range': [0, 140], 'source': '<a href=\"http://twitter.com/download/android\" rel=\"nofollow\">Twitter for Android</a>', 'truncated': True, 'in_reply_to_status_id': None, 'in_reply_to_status_id_str': None, 'in_reply_to_user_id': None, 'in_reply_to_user_id_str': None, 'in_reply_to_screen_name': None, 'user': {'id': 841994985062993920, 'id_str': '841994985062993920', 'name': 'Digi Chandru', 'screen_name': 'digichandru', 'location': 'Madurai', 'url': None, 'description': 'Leaders are Born from Survival.', 'translator_type': 'none', 'protected': False, 'verified': False, 'followers_count': 2351, 'friends_count': 438, 'listed_count': 7, 'favourites_count': 5099, 'statuses_count': 11188, 'created_at': 'Wed Mar 15 12:50:22 +0000 2017', 'utc_offset': None, 'time_zone': None, 'geo_enabled': True, 'lang': 'en', 'contributors_enabled': False, 'is_translator': False, 'profile_background_color': 'F5F8FA', 'profile_background_image_url': '', 'profile_background_image_url_https': '', 'profile_background_tile': False, 'profile_link_color': '1DA1F2', 'profile_sidebar_border_color': 'C0DEED', 'profile_sidebar_fill_color': 'DDEEF6', 'profile_text_color': '333333', 'profile_use_background_image': True, 'profile_image_url': 'http://pbs.twimg.com/profile_images/1034000713066536961/7Pk4kyqX_normal.jpg', 'profile_image_url_https': 'https://pbs.twimg.com/profile_images/1034000713066536961/7Pk4kyqX_normal.jpg', 'profile_banner_url': 'https://pbs.twimg.com/profile_banners/841994985062993920/1535359967', 'default_profile': True, 'default_profile_image': False, 'following': None, 'follow_request_sent': None, 'notifications': None}, 'geo': None, 'coordinates': None, 'place': None, 'contributors': None, 'is_quote_status': False, 'extended_tweet': {'full_text': 'இப்போது புரிகிறதா!!!!! இவர்களை போன்றவர்கள் என்ன வேலை செய்து கொண்டு இருக்கிறார்கள் என்று.... விநாயகர் சதுர்த்தி நடத்த அனுமதிக்க கூடாதாம்...... https://t.co/MriIbrIDeT', 'display_text_range': [0, 141], 'entities': {'hashtags': [], 'urls': [], 'user_mentions': [], 'symbols': [], 'media': [{'id': 1035330043763810304, 'id_str': '1035330043763810304', 'indices': [142, 165], 'additional_media_info': {'monetizable': False}, 'media_url': 'http://pbs.twimg.com/ext_tw_video_thumb/1035330043763810304/pu/img/WCFMNnFPYUh11o28.jpg', 'media_url_https': 'https://pbs.twimg.com/ext_tw_video_thumb/1035330043763810304/pu/img/WCFMNnFPYUh11o28.jpg', 'url': 'https://t.co/MriIbrIDeT', 'display_url': 'pic.twitter.com/MriIbrIDeT', 'expanded_url': 'https://twitter.com/digichandru/status/1035330140136329216/video/1', 'type': 'video', 'video_info': {'aspect_ratio': [25, 14], 'duration_millis': 44717, 'variants': [{'bitrate': 256000, 'content_type': 'video/mp4', 'url': 'https://video.twimg.com/ext_tw_video/1035330043763810304/pu/vid/400x224/Mye8M1U8BjmL8gaT.mp4?tag=5'}, {'content_type': 'application/x-mpegURL', 'url': 'https://video.twimg.com/ext_tw_video/1035330043763810304/pu/pl/GGg4qFsvmdlc-Gji.m3u8?tag=5'}]}, 'sizes': {'thumb': {'w': 150, 'h': 150, 'resize': 'crop'}, 'small': {'w': 400, 'h': 224, 'resize': 'fit'}, 'medium': {'w': 400, 'h': 224, 'resize': 'fit'}, 'large': {'w': 400, 'h': 224, 'resize': 'fit'}}}]}, 'extended_entities': {'media': [{'id': 1035330043763810304, 'id_str': '1035330043763810304', 'indices': [142, 165], 'additional_media_info': {'monetizable': False}, 'media_url': 'http://pbs.twimg.com/ext_tw_video_thumb/1035330043763810304/pu/img/WCFMNnFPYUh11o28.jpg', 'media_url_https': 'https://pbs.twimg.com/ext_tw_video_thumb/1035330043763810304/pu/img/WCFMNnFPYUh11o28.jpg', 'url': 'https://t.co/MriIbrIDeT', 'display_url': 'pic.twitter.com/MriIbrIDeT', 'expanded_url': 'https://twitter.com/digichandru/status/1035330140136329216/video/1', 'type': 'video', 'video_info': {'aspect_ratio': [25, 14], 'duration_millis': 44717, 'variants': [{'bitrate': 256000, 'content_type': 'video/mp4', 'url': 'https://video.twimg.com/ext_tw_video/1035330043763810304/pu/vid/400x224/Mye8M1U8BjmL8gaT.mp4?tag=5'}, {'content_type': 'application/x-mpegURL', 'url': 'https://video.twimg.com/ext_tw_video/1035330043763810304/pu/pl/GGg4qFsvmdlc-Gji.m3u8?tag=5'}]}, 'sizes': {'thumb': {'w': 150, 'h': 150, 'resize': 'crop'}, 'small': {'w': 400, 'h': 224, 'resize': 'fit'}, 'medium': {'w': 400, 'h': 224, 'resize': 'fit'}, 'large': {'w': 400, 'h': 224, 'resize': 'fit'}}}]}}, 'quote_count': 1, 'reply_count': 14, 'retweet_count': 43, 'favorite_count': 71, 'entities': {'hashtags': [], 'urls': [{'url': 'https://t.co/kpUl0DJaFW', 'expanded_url': 'https://twitter.com/i/web/status/1035330140136329216', 'display_url': 'twitter.com/i/web/status/1…', 'indices': [117, 140]}], 'user_mentions': [], 'symbols': []}, 'favorited': False, 'retweeted': False, 'possibly_sensitive': False, 'filter_level': 'low', 'lang': 'ta'}, 'quoted_status_permalink': {'url': 'https://t.co/yBjou9zMt0', 'expanded': 'https://twitter.com/digichandru/status/1035330140136329216', 'display': 'twitter.com/digichandru/st…'}, 'is_quote_status': True, 'extended_tweet': {'full_text': 'Atrocious! Thirumurugan Gandhi wants to ban Vinayakar charuthi. these converts are trying to eradicate the Hindu culture totally from TN in the name of the secularism. This shud be an eye-opener to those sickular Hindus who simply bark against Hindutva! @rvaidya2000 @sgurumurthy https://t.co/yBjou9zMt0', 'display_text_range': [0, 279], 'entities': {'hashtags': [], 'urls': [{'url': 'https://t.co/yBjou9zMt0', 'expanded_url': 'https://twitter.com/digichandru/status/1035330140136329216', 'display_url': 'twitter.com/digichandru/st…', 'indices': [280, 303]}], 'user_mentions': [{'screen_name': 'rvaidya2000', 'name': 'RVAIDYA2000', 'id': 108006063, 'id_str': '108006063', 'indices': [254, 266]}, {'screen_name': 'sgurumurthy', 'name': 'S Gurumurthy', 'id': 129057534, 'id_str': '129057534', 'indices': [267, 279]}], 'symbols': []}}, 'quote_count': 8, 'reply_count': 9, 'retweet_count': 88, 'favorite_count': 50, 'entities': {'hashtags': [], 'urls': [{'url': 'https://t.co/zQYTFZrLoi', 'expanded_url': 'https://twitter.com/i/web/status/1035499932830990337', 'display_url': 'twitter.com/i/web/status/1…', 'indices': [117, 140]}], 'user_mentions': [], 'symbols': []}, 'favorited': False, 'retweeted': False, 'possibly_sensitive': False, 'filter_level': 'low', 'lang': 'en'}, 'quoted_status_id': 1035330140136329216, 'quoted_status_id_str': '1035330140136329216', 'quoted_status': {'created_at': 'Fri Aug 31 00:55:15 +0000 2018', 'id': 1035330140136329216, 'id_str': '1035330140136329216', 'text': 'இப்போது புரிகிறதா!!!!! இவர்களை போன்றவர்கள் என்ன வேலை செய்து கொண்டு இருக்கிறார்கள் என்று.... விநாயகர் சதுர்த்தி நடத்… https://t.co/kpUl0DJaFW', 'display_text_range': [0, 140], 'source': '<a href=\"http://twitter.com/download/android\" rel=\"nofollow\">Twitter for Android</a>', 'truncated': True, 'in_reply_to_status_id': None, 'in_reply_to_status_id_str': None, 'in_reply_to_user_id': None, 'in_reply_to_user_id_str': None, 'in_reply_to_screen_name': None, 'user': {'id': 841994985062993920, 'id_str': '841994985062993920', 'name': 'Digi Chandru', 'screen_name': 'digichandru', 'location': 'Madurai', 'url': None, 'description': 'Leaders are Born from Survival.', 'translator_type': 'none', 'protected': False, 'verified': False, 'followers_count': 2351, 'friends_count': 438, 'listed_count': 7, 'favourites_count': 5099, 'statuses_count': 11188, 'created_at': 'Wed Mar 15 12:50:22 +0000 2017', 'utc_offset': None, 'time_zone': None, 'geo_enabled': True, 'lang': 'en', 'contributors_enabled': False, 'is_translator': False, 'profile_background_color': 'F5F8FA', 'profile_background_image_url': '', 'profile_background_image_url_https': '', 'profile_background_tile': False, 'profile_link_color': '1DA1F2', 'profile_sidebar_border_color': 'C0DEED', 'profile_sidebar_fill_color': 'DDEEF6', 'profile_text_color': '333333', 'profile_use_background_image': True, 'profile_image_url': 'http://pbs.twimg.com/profile_images/1034000713066536961/7Pk4kyqX_normal.jpg', 'profile_image_url_https': 'https://pbs.twimg.com/profile_images/1034000713066536961/7Pk4kyqX_normal.jpg', 'profile_banner_url': 'https://pbs.twimg.com/profile_banners/841994985062993920/1535359967', 'default_profile': True, 'default_profile_image': False, 'following': None, 'follow_request_sent': None, 'notifications': None}, 'geo': None, 'coordinates': None, 'place': None, 'contributors': None, 'is_quote_status': False, 'extended_tweet': {'full_text': 'இப்போது புரிகிறதா!!!!! இவர்களை போன்றவர்கள் என்ன வேலை செய்து கொண்டு இருக்கிறார்கள் என்று.... விநாயகர் சதுர்த்தி நடத்த அனுமதிக்க கூடாதாம்...... https://t.co/MriIbrIDeT', 'display_text_range': [0, 141], 'entities': {'hashtags': [], 'urls': [], 'user_mentions': [], 'symbols': [], 'media': [{'id': 1035330043763810304, 'id_str': '1035330043763810304', 'indices': [142, 165], 'additional_media_info': {'monetizable': False}, 'media_url': 'http://pbs.twimg.com/ext_tw_video_thumb/1035330043763810304/pu/img/WCFMNnFPYUh11o28.jpg', 'media_url_https': 'https://pbs.twimg.com/ext_tw_video_thumb/1035330043763810304/pu/img/WCFMNnFPYUh11o28.jpg', 'url': 'https://t.co/MriIbrIDeT', 'display_url': 'pic.twitter.com/MriIbrIDeT', 'expanded_url': 'https://twitter.com/digichandru/status/1035330140136329216/video/1', 'type': 'video', 'video_info': {'aspect_ratio': [25, 14], 'duration_millis': 44717, 'variants': [{'bitrate': 256000, 'content_type': 'video/mp4', 'url': 'https://video.twimg.com/ext_tw_video/1035330043763810304/pu/vid/400x224/Mye8M1U8BjmL8gaT.mp4?tag=5'}, {'content_type': 'application/x-mpegURL', 'url': 'https://video.twimg.com/ext_tw_video/1035330043763810304/pu/pl/GGg4qFsvmdlc-Gji.m3u8?tag=5'}]}, 'sizes': {'thumb': {'w': 150, 'h': 150, 'resize': 'crop'}, 'small': {'w': 400, 'h': 224, 'resize': 'fit'}, 'medium': {'w': 400, 'h': 224, 'resize': 'fit'}, 'large': {'w': 400, 'h': 224, 'resize': 'fit'}}}]}, 'extended_entities': {'media': [{'id': 1035330043763810304, 'id_str': '1035330043763810304', 'indices': [142, 165], 'additional_media_info': {'monetizable': False}, 'media_url': 'http://pbs.twimg.com/ext_tw_video_thumb/1035330043763810304/pu/img/WCFMNnFPYUh11o28.jpg', 'media_url_https': 'https://pbs.twimg.com/ext_tw_video_thumb/1035330043763810304/pu/img/WCFMNnFPYUh11o28.jpg', 'url': 'https://t.co/MriIbrIDeT', 'display_url': 'pic.twitter.com/MriIbrIDeT', 'expanded_url': 'https://twitter.com/digichandru/status/1035330140136329216/video/1', 'type': 'video', 'video_info': {'aspect_ratio': [25, 14], 'duration_millis': 44717, 'variants': [{'bitrate': 256000, 'content_type': 'video/mp4', 'url': 'https://video.twimg.com/ext_tw_video/1035330043763810304/pu/vid/400x224/Mye8M1U8BjmL8gaT.mp4?tag=5'}, {'content_type': 'application/x-mpegURL', 'url': 'https://video.twimg.com/ext_tw_video/1035330043763810304/pu/pl/GGg4qFsvmdlc-Gji.m3u8?tag=5'}]}, 'sizes': {'thumb': {'w': 150, 'h': 150, 'resize': 'crop'}, 'small': {'w': 400, 'h': 224, 'resize': 'fit'}, 'medium': {'w': 400, 'h': 224, 'resize': 'fit'}, 'large': {'w': 400, 'h': 224, 'resize': 'fit'}}}]}}, 'quote_count': 1, 'reply_count': 14, 'retweet_count': 43, 'favorite_count': 71, 'entities': {'hashtags': [], 'urls': [{'url': 'https://t.co/kpUl0DJaFW', 'expanded_url': 'https://twitter.com/i/web/status/1035330140136329216', 'display_url': 'twitter.com/i/web/status/1…', 'indices': [117, 140]}], 'user_mentions': [], 'symbols': []}, 'favorited': False, 'retweeted': False, 'possibly_sensitive': False, 'filter_level': 'low', 'lang': 'ta'}, 'quoted_status_permalink': {'url': 'https://t.co/yBjou9zMt0', 'expanded': 'https://twitter.com/digichandru/status/1035330140136329216', 'display': 'twitter.com/digichandru/st…'}, 'is_quote_status': True, 'quote_count': 0, 'reply_count': 0, 'retweet_count': 0, 'favorite_count': 0, 'entities': {'hashtags': [], 'urls': [], 'user_mentions': [{'screen_name': 'Eshanputra_Om', 'name': '🕉️Eshanputra_Om🇮🇳', 'id': 53138912, 'id_str': '53138912', 'indices': [3, 17]}], 'symbols': []}, 'favorited': False, 'retweeted': False, 'filter_level': 'low', 'lang': 'en', 'timestamp_ms': '1535784259259'}\n"
     ]
    },
    {
     "name": "stdout",
     "output_type": "stream",
     "text": [
      "2\n",
      "{'created_at': 'Sat Sep 01 07:00:57 +0000 2018', 'id': 1035784559416102912, 'id_str': '1035784559416102912', 'text': 'அவங்களும்  என்னென்னமோ  பன்றாங்க  ஆனாலும்  தேறவில்லை', 'source': '<a href=\"http://twitter.com/download/android\" rel=\"nofollow\">Twitter for Android</a>', 'truncated': False, 'in_reply_to_status_id': None, 'in_reply_to_status_id_str': None, 'in_reply_to_user_id': None, 'in_reply_to_user_id_str': None, 'in_reply_to_screen_name': None, 'user': {'id': 831699510627807233, 'id_str': '831699510627807233', 'name': 'தணிகேசன்.பாலசுந்தரம்', 'screen_name': 'ThanikesanB', 'location': 'Chennai, india  ', 'url': None, 'description': 'நீ என்னை உன் அடிமை என்று நினைக்கும் போது நான் உன்னை கொல்லும் ஆயுதமாய் மாறிவிடுவது என் கடமை', 'translator_type': 'none', 'protected': False, 'verified': False, 'followers_count': 38, 'friends_count': 141, 'listed_count': 0, 'favourites_count': 1989, 'statuses_count': 181, 'created_at': 'Wed Feb 15 02:59:50 +0000 2017', 'utc_offset': None, 'time_zone': None, 'geo_enabled': False, 'lang': 'en', 'contributors_enabled': False, 'is_translator': False, 'profile_background_color': 'F5F8FA', 'profile_background_image_url': '', 'profile_background_image_url_https': '', 'profile_background_tile': False, 'profile_link_color': '1DA1F2', 'profile_sidebar_border_color': 'C0DEED', 'profile_sidebar_fill_color': 'DDEEF6', 'profile_text_color': '333333', 'profile_use_background_image': True, 'profile_image_url': 'http://pbs.twimg.com/profile_images/921948177028091904/nDb6f1pj_normal.jpg', 'profile_image_url_https': 'https://pbs.twimg.com/profile_images/921948177028091904/nDb6f1pj_normal.jpg', 'profile_banner_url': 'https://pbs.twimg.com/profile_banners/831699510627807233/1532775360', 'default_profile': True, 'default_profile_image': False, 'following': None, 'follow_request_sent': None, 'notifications': None}, 'geo': None, 'coordinates': None, 'place': None, 'contributors': None, 'quoted_status_id': 1035533116914507776, 'quoted_status_id_str': '1035533116914507776', 'quoted_status': {'created_at': 'Fri Aug 31 14:21:49 +0000 2018', 'id': 1035533116914507776, 'id_str': '1035533116914507776', 'text': \"'நான் அடிக்கிற மாதிரி அடிக்கிறன் நீ அழுகிற மாதிரி அழு'. அவர்களே அடைப்பார்களாம், பிறகு அவர்களே அப்படி அடைக்க முடியா… https://t.co/rWazju7LhF\", 'source': '<a href=\"http://twitter.com\" rel=\"nofollow\">Twitter Web Client</a>', 'truncated': True, 'in_reply_to_status_id': None, 'in_reply_to_status_id_str': None, 'in_reply_to_user_id': None, 'in_reply_to_user_id_str': None, 'in_reply_to_screen_name': None, 'user': {'id': 1142976919, 'id_str': '1142976919', 'name': 'viyasan k', 'screen_name': 'viyasank', 'location': 'London, England', 'url': 'http://www.viyaasan.blogspot.com', 'description': 'http://www.viyaasan.blogspot.com', 'translator_type': 'none', 'protected': False, 'verified': False, 'followers_count': 3171, 'friends_count': 185, 'listed_count': 5, 'favourites_count': 19753, 'statuses_count': 18018, 'created_at': 'Sat Feb 02 17:27:16 +0000 2013', 'utc_offset': None, 'time_zone': None, 'geo_enabled': True, 'lang': 'en', 'contributors_enabled': False, 'is_translator': False, 'profile_background_color': 'B3CCB7', 'profile_background_image_url': 'http://abs.twimg.com/images/themes/theme1/bg.png', 'profile_background_image_url_https': 'https://abs.twimg.com/images/themes/theme1/bg.png', 'profile_background_tile': False, 'profile_link_color': '7FDBB6', 'profile_sidebar_border_color': '000000', 'profile_sidebar_fill_color': 'DDEEF6', 'profile_text_color': '333333', 'profile_use_background_image': False, 'profile_image_url': 'http://pbs.twimg.com/profile_images/736719355807997953/fuuVt-fS_normal.jpg', 'profile_image_url_https': 'https://pbs.twimg.com/profile_images/736719355807997953/fuuVt-fS_normal.jpg', 'profile_banner_url': 'https://pbs.twimg.com/profile_banners/1142976919/1413852786', 'default_profile': False, 'default_profile_image': False, 'following': None, 'follow_request_sent': None, 'notifications': None}, 'geo': None, 'coordinates': None, 'place': None, 'contributors': None, 'is_quote_status': False, 'extended_tweet': {'full_text': \"'நான் அடிக்கிற மாதிரி அடிக்கிறன் நீ அழுகிற மாதிரி அழு'. அவர்களே அடைப்பார்களாம், பிறகு அவர்களே அப்படி அடைக்க முடியாதென்பார்களாம். என்னவோ நடக்கிறது 😀😂'\\nhttps://t.co/RAzmx8YOYr\", 'display_text_range': [0, 173], 'entities': {'hashtags': [], 'urls': [{'url': 'https://t.co/RAzmx8YOYr', 'expanded_url': 'https://tamil.oneindia.com/news/tamilnadu/chennai-egmore-court-asking-relpy-from-chennai-police-commissioner-over-thirumurugan-gandhi-328697.html', 'display_url': 'tamil.oneindia.com/news/tamilnadu…', 'indices': [150, 173]}], 'user_mentions': [], 'symbols': []}}, 'quote_count': 0, 'reply_count': 2, 'retweet_count': 3, 'favorite_count': 9, 'entities': {'hashtags': [], 'urls': [{'url': 'https://t.co/rWazju7LhF', 'expanded_url': 'https://twitter.com/i/web/status/1035533116914507776', 'display_url': 'twitter.com/i/web/status/1…', 'indices': [116, 139]}], 'user_mentions': [], 'symbols': []}, 'favorited': False, 'retweeted': False, 'possibly_sensitive': False, 'filter_level': 'low', 'lang': 'ta'}, 'quoted_status_permalink': {'url': 'https://t.co/6gEd0Ffxzw', 'expanded': 'https://twitter.com/viyasank/status/1035533116914507776', 'display': 'twitter.com/viyasank/statu…'}, 'is_quote_status': True, 'quote_count': 0, 'reply_count': 0, 'retweet_count': 0, 'favorite_count': 0, 'entities': {'hashtags': [], 'urls': [], 'user_mentions': [], 'symbols': []}, 'favorited': False, 'retweeted': False, 'filter_level': 'low', 'lang': 'ta', 'timestamp_ms': '1535785257568'}\n"
     ]
    }
   ],
   "source": [
    "l = MyStreamListener()\n",
    "\n",
    "# Create you Stream object with authentication\n",
    "stream = tweepy.Stream(auth, l)\n",
    "\n",
    "\n",
    "# Filter Twitter Streams to capture data by the keywords:\n",
    "#stream.filter(locations=[-74.0231,45.3299,-73.3846,45.7311],track=['clinton','trump','sanders','cruz'])\n",
    "stream.filter(track=['Chennai'])"
   ]
  },
  {
   "cell_type": "code",
   "execution_count": null,
   "metadata": {
    "collapsed": true
   },
   "outputs": [],
   "source": [
    "import json\n",
    "\n",
    "# String of path to file: tweets_data_path\n",
    "tweets_data_path='tweets.txt'\n",
    "\n",
    "# Initialize empty list to store tweets: tweets_data\n",
    "tweets_data=[]\n",
    "\n",
    "# Open connection to file\n",
    "tweets_file = open(tweets_data_path, \"r\")\n",
    "\n",
    "# Read in tweets and store in list: tweets_data\n",
    "for line in tweets_file:\n",
    "    tweet=json.loads(line)\n",
    "    tweets_data.append(tweet)\n",
    "\n",
    "# Close connection to file\n",
    "tweets_file.close()\n",
    "\n",
    "# Print the keys of the first tweet dict\n",
    "print(tweets_data[0].keys())"
   ]
  },
  {
   "cell_type": "code",
   "execution_count": 8,
   "metadata": {
    "scrolled": true
   },
   "outputs": [
    {
     "data": {
      "text/plain": [
       "{'contributors': None,\n",
       " 'coordinates': None,\n",
       " 'created_at': 'Sat Sep 01 06:28:15 +0000 2018',\n",
       " 'entities': {'hashtags': [],\n",
       "  'symbols': [],\n",
       "  'urls': [],\n",
       "  'user_mentions': [{'id': 1034153109663170561,\n",
       "    'id_str': '1034153109663170561',\n",
       "    'indices': [3, 18],\n",
       "    'name': 'Frankie Leal',\n",
       "    'screen_name': 'Panchitoleal10'}]},\n",
       " 'favorite_count': 0,\n",
       " 'favorited': False,\n",
       " 'filter_level': 'low',\n",
       " 'geo': None,\n",
       " 'id': 1035776329378136064,\n",
       " 'id_str': '1035776329378136064',\n",
       " 'in_reply_to_screen_name': None,\n",
       " 'in_reply_to_status_id': None,\n",
       " 'in_reply_to_status_id_str': None,\n",
       " 'in_reply_to_user_id': None,\n",
       " 'in_reply_to_user_id_str': None,\n",
       " 'is_quote_status': False,\n",
       " 'lang': 'en',\n",
       " 'place': None,\n",
       " 'quote_count': 0,\n",
       " 'reply_count': 0,\n",
       " 'retweet_count': 0,\n",
       " 'retweeted': False,\n",
       " 'retweeted_status': {'contributors': None,\n",
       "  'coordinates': None,\n",
       "  'created_at': 'Wed Aug 29 16:37:55 +0000 2018',\n",
       "  'entities': {'hashtags': [],\n",
       "   'symbols': [],\n",
       "   'urls': [{'display_url': 'twitter.com/i/web/status/1…',\n",
       "     'expanded_url': 'https://twitter.com/i/web/status/1034842594776371201',\n",
       "     'indices': [117, 140],\n",
       "     'url': 'https://t.co/9EVQcBBen8'}],\n",
       "   'user_mentions': []},\n",
       "  'extended_tweet': {'display_text_range': [0, 273],\n",
       "   'entities': {'hashtags': [],\n",
       "    'symbols': [],\n",
       "    'urls': [],\n",
       "    'user_mentions': []},\n",
       "   'full_text': 'So I have an almost 3 hour class from 8:30-11:15 and this dude left to take a break or whatever and was gone for like 40 MINUTES. And he came back all sweaty and when the professor asked him he said he had gone to play basketball at the rec 💀 In the middle of class LMAO 😂😂'},\n",
       "  'favorite_count': 13488,\n",
       "  'favorited': False,\n",
       "  'filter_level': 'low',\n",
       "  'geo': None,\n",
       "  'id': 1034842594776371201,\n",
       "  'id_str': '1034842594776371201',\n",
       "  'in_reply_to_screen_name': None,\n",
       "  'in_reply_to_status_id': None,\n",
       "  'in_reply_to_status_id_str': None,\n",
       "  'in_reply_to_user_id': None,\n",
       "  'in_reply_to_user_id_str': None,\n",
       "  'is_quote_status': False,\n",
       "  'lang': 'en',\n",
       "  'place': None,\n",
       "  'quote_count': 162,\n",
       "  'reply_count': 8,\n",
       "  'retweet_count': 2588,\n",
       "  'retweeted': False,\n",
       "  'source': '<a href=\"http://twitter.com/download/iphone\" rel=\"nofollow\">Twitter for iPhone</a>',\n",
       "  'text': 'So I have an almost 3 hour class from 8:30-11:15 and this dude left to take a break or whatever and was gone for li… https://t.co/9EVQcBBen8',\n",
       "  'truncated': True,\n",
       "  'user': {'contributors_enabled': False,\n",
       "   'created_at': 'Mon Aug 27 18:58:09 +0000 2018',\n",
       "   'default_profile': True,\n",
       "   'default_profile_image': False,\n",
       "   'description': 'John 10:10 ✝️ | Sportswriter for @ThePaisano and student reporter for @dctf covering UTSA football 🏈| Birds up!',\n",
       "   'favourites_count': 72,\n",
       "   'follow_request_sent': None,\n",
       "   'followers_count': 192,\n",
       "   'following': None,\n",
       "   'friends_count': 333,\n",
       "   'geo_enabled': False,\n",
       "   'id': 1034153109663170561,\n",
       "   'id_str': '1034153109663170561',\n",
       "   'is_translator': False,\n",
       "   'lang': 'en',\n",
       "   'listed_count': 0,\n",
       "   'location': 'San Antonio, TX',\n",
       "   'name': 'Frankie Leal',\n",
       "   'notifications': None,\n",
       "   'profile_background_color': 'F5F8FA',\n",
       "   'profile_background_image_url': '',\n",
       "   'profile_background_image_url_https': '',\n",
       "   'profile_background_tile': False,\n",
       "   'profile_banner_url': 'https://pbs.twimg.com/profile_banners/1034153109663170561/1535398068',\n",
       "   'profile_image_url': 'http://pbs.twimg.com/profile_images/1034699204201996289/_so4mFSj_normal.jpg',\n",
       "   'profile_image_url_https': 'https://pbs.twimg.com/profile_images/1034699204201996289/_so4mFSj_normal.jpg',\n",
       "   'profile_link_color': '1DA1F2',\n",
       "   'profile_sidebar_border_color': 'C0DEED',\n",
       "   'profile_sidebar_fill_color': 'DDEEF6',\n",
       "   'profile_text_color': '333333',\n",
       "   'profile_use_background_image': True,\n",
       "   'protected': False,\n",
       "   'screen_name': 'Panchitoleal10',\n",
       "   'statuses_count': 50,\n",
       "   'time_zone': None,\n",
       "   'translator_type': 'none',\n",
       "   'url': None,\n",
       "   'utc_offset': None,\n",
       "   'verified': False}},\n",
       " 'source': '<a href=\"http://twitter.com/download/iphone\" rel=\"nofollow\">Twitter for iPhone</a>',\n",
       " 'text': 'RT @Panchitoleal10: So I have an almost 3 hour class from 8:30-11:15 and this dude left to take a break or whatever and was gone for like 4…',\n",
       " 'timestamp_ms': '1535783295374',\n",
       " 'truncated': False,\n",
       " 'user': {'contributors_enabled': False,\n",
       "  'created_at': 'Thu Feb 23 23:31:13 +0000 2012',\n",
       "  'default_profile': False,\n",
       "  'default_profile_image': False,\n",
       "  'description': 'move in silence  • ucf 2021•',\n",
       "  'favourites_count': 17440,\n",
       "  'follow_request_sent': None,\n",
       "  'followers_count': 497,\n",
       "  'following': None,\n",
       "  'friends_count': 1001,\n",
       "  'geo_enabled': True,\n",
       "  'id': 501249213,\n",
       "  'id_str': '501249213',\n",
       "  'is_translator': False,\n",
       "  'lang': 'en',\n",
       "  'listed_count': 1,\n",
       "  'location': None,\n",
       "  'name': 'superaware',\n",
       "  'notifications': None,\n",
       "  'profile_background_color': '17B2EB',\n",
       "  'profile_background_image_url': 'http://abs.twimg.com/images/themes/theme1/bg.png',\n",
       "  'profile_background_image_url_https': 'https://abs.twimg.com/images/themes/theme1/bg.png',\n",
       "  'profile_background_tile': False,\n",
       "  'profile_banner_url': 'https://pbs.twimg.com/profile_banners/501249213/1532197275',\n",
       "  'profile_image_url': 'http://pbs.twimg.com/profile_images/1020735466981740545/M7efDz6G_normal.jpg',\n",
       "  'profile_image_url_https': 'https://pbs.twimg.com/profile_images/1020735466981740545/M7efDz6G_normal.jpg',\n",
       "  'profile_link_color': 'E3209C',\n",
       "  'profile_sidebar_border_color': 'C0DEED',\n",
       "  'profile_sidebar_fill_color': 'DDEEF6',\n",
       "  'profile_text_color': '333333',\n",
       "  'profile_use_background_image': True,\n",
       "  'protected': False,\n",
       "  'screen_name': 'Ghaouxo247_',\n",
       "  'statuses_count': 13849,\n",
       "  'time_zone': None,\n",
       "  'translator_type': 'none',\n",
       "  'url': None,\n",
       "  'utc_offset': None,\n",
       "  'verified': False}}"
      ]
     },
     "execution_count": 8,
     "metadata": {},
     "output_type": "execute_result"
    }
   ],
   "source": [
    "tweets_data[9]"
   ]
  },
  {
   "cell_type": "code",
   "execution_count": 9,
   "metadata": {
    "scrolled": true
   },
   "outputs": [
    {
     "name": "stdout",
     "output_type": "stream",
     "text": [
      "                                                text lang  \\\n",
      "0  RT @NBAInside_Stuff: Fake basketball fans “The...   en   \n",
      "1  RT @_RodTheGod_: The all time Laker team on 2K...   en   \n",
      "2  RT @BlazeHedgehog: A while ago I mentioned a n...   en   \n",
      "3         college basketball https://t.co/JItfh2RzTZ   en   \n",
      "4  RT @manuginobili: Today, with a wide range of ...   en   \n",
      "\n",
      "                                                user  \n",
      "0  {'id': 4016148612, 'id_str': '4016148612', 'na...  \n",
      "1  {'id': 756978620841820161, 'id_str': '75697862...  \n",
      "2  {'id': 516865312, 'id_str': '516865312', 'name...  \n",
      "3  {'id': 3059872950, 'id_str': '3059872950', 'na...  \n",
      "4  {'id': 894127807470678016, 'id_str': '89412780...  \n"
     ]
    }
   ],
   "source": [
    "import pandas as pd\n",
    "\n",
    "# Build DataFrame of tweet texts and languages\n",
    "df = pd.DataFrame(tweets_data, columns=['text','lang','user'])\n",
    "\n",
    "# Print head of DataFrame\n",
    "print(df.head())"
   ]
  },
  {
   "cell_type": "code",
   "execution_count": 10,
   "metadata": {
    "collapsed": true
   },
   "outputs": [],
   "source": [
    "df.to_csv('tweets.csv')"
   ]
  }
 ],
 "metadata": {
  "kernelspec": {
   "display_name": "Python 3",
   "language": "python",
   "name": "python3"
  },
  "language_info": {
   "codemirror_mode": {
    "name": "ipython",
    "version": 3
   },
   "file_extension": ".py",
   "mimetype": "text/x-python",
   "name": "python",
   "nbconvert_exporter": "python",
   "pygments_lexer": "ipython3",
   "version": "3.6.1"
  }
 },
 "nbformat": 4,
 "nbformat_minor": 2
}
