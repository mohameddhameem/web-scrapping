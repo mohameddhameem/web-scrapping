{
 "cells": [
  {
   "cell_type": "markdown",
   "metadata": {},
   "source": [
    "# Google Play Review Extractor"
   ]
  },
  {
   "cell_type": "code",
   "execution_count": null,
   "metadata": {},
   "outputs": [],
   "source": [
    "#!pip install selenium"
   ]
  },
  {
   "cell_type": "code",
   "execution_count": null,
   "metadata": {},
   "outputs": [],
   "source": [
    "#lets import all required packages\n",
    "from selenium import webdriver\n",
    "import time\n",
    "from bs4 import BeautifulSoup\n",
    "import os"
   ]
  },
  {
   "cell_type": "code",
   "execution_count": null,
   "metadata": {},
   "outputs": [],
   "source": [
    "#os.getcwd()"
   ]
  },
  {
   "cell_type": "code",
   "execution_count": null,
   "metadata": {},
   "outputs": [],
   "source": [
    "#We will use Chorme driver - Copy chromedriver to the current directory. if different directory then use that path\n",
    "\n",
    "#if its windows uncomment below section and create driver\n",
    "#drive=webdriver.Chrome(\"chromedriver\")\n",
    "\n",
    "#below section is for MacOS\n",
    "PROJECT_ROOT = os.path.abspath(os.getcwd())\n",
    "DRIVER_BIN = os.path.join(PROJECT_ROOT, \"chromedriver\")\n",
    "\n",
    "browser = webdriver.Chrome(executable_path = DRIVER_BIN)"
   ]
  },
  {
   "cell_type": "code",
   "execution_count": null,
   "metadata": {},
   "outputs": [],
   "source": [
    "#Set timeout - Be patient and gentle to the website\n",
    "browser.set_page_load_timeout(10)"
   ]
  },
  {
   "cell_type": "code",
   "execution_count": null,
   "metadata": {},
   "outputs": [],
   "source": [
    "URL = 'https://play.google.com/store/apps/details?id=com.orbital.brainiton'\n",
    "browser.get(URL)"
   ]
  },
  {
   "cell_type": "code",
   "execution_count": null,
   "metadata": {},
   "outputs": [],
   "source": [
    "time.sleep(10)"
   ]
  },
  {
   "cell_type": "code",
   "execution_count": null,
   "metadata": {},
   "outputs": [],
   "source": [
    "from selenium.webdriver.common.by import By\n",
    "#Lets try to click the \"Read All Reviews\"\n",
    "#//*[@id=\"fcxH9b\"]/div[4]/c-wiz/div/div[2]/div/div[1]/div/div/div[1]/div[6]/div/content/span\n",
    "xpath=browser.find_element_by_xpath((\"//*[@id='fcxH9b']/div[4]/c-wiz/div/div[2]/div/div[1]/div/div/div[1]/div[6]/div/content/span\"));\n",
    "print(xpath)\n",
    "xpath.click()\n",
    "#WebElement el = driver.findElement(By.cssSelector(\"span.middle\"));"
   ]
  },
  {
   "cell_type": "code",
   "execution_count": null,
   "metadata": {},
   "outputs": [],
   "source": [
    "#now lets try to scroll down the page - This page load when we scroll down for more results\n",
    "SCROLL_PAUSE_TIME = 5\n",
    "i = 10 # later we can change it to some other bigger number\n",
    "# Get scroll height\n",
    "last_height = browser.execute_script(\"return document.body.scrollHeight\")\n",
    "\n",
    "while True:\n",
    "    #lets try to click the full review button if its visible\n",
    "    full_review_path = \"//*[@id='fcxH9b']/div[4]/c-wiz[2]/div/div[2]/div/div[1]/div/div/div[1]/div[2]/div/div[9]/div/div[2]/div[2]/span[1]/div/button\"\n",
    "    theButtons = browser.find_elements_by_xpath(\"//*[contains(@class,'LkLjZd ScJHi OzU4dc')]\");\n",
    "    #belwo code has some issues in clicking full review button\n",
    "    #for i in theButtons:\n",
    "        #print(i)\n",
    "        #i.click()\n",
    "        #time.sleep(SCROLL_PAUSE_TIME)\n",
    "    # Scroll down to bottom\n",
    "    browser.execute_script(\"window.scrollTo(0, document.body.scrollHeight);\")\n",
    "    i = i + 1\n",
    "    # Wait to load page\n",
    "    time.sleep(SCROLL_PAUSE_TIME)\n",
    "\n",
    "    # Calculate new scroll height and compare with last scroll height\n",
    "    new_height = browser.execute_script(\"return document.body.scrollHeight\")\n",
    "    if new_height == last_height or i == 10:\n",
    "        print('Will exit here')\n",
    "        break\n",
    "    last_height = new_height"
   ]
  },
  {
   "cell_type": "code",
   "execution_count": null,
   "metadata": {},
   "outputs": [],
   "source": [
    "#lets try to get the Name of the APP First\n",
    "data = browser.page_source"
   ]
  },
  {
   "cell_type": "code",
   "execution_count": null,
   "metadata": {},
   "outputs": [],
   "source": [
    "soup = BeautifulSoup(data, \"html.parser\")\n",
    "#Get H1\n",
    "appTitleSpan = soup.find(\"h1\",{\"itemprop\":\"name\"})"
   ]
  },
  {
   "cell_type": "code",
   "execution_count": null,
   "metadata": {},
   "outputs": [],
   "source": [
    "#appTitle = appTitle.find(\"span\")\n",
    "appTitleName = appTitleSpan.find(\"span\").text"
   ]
  },
  {
   "cell_type": "code",
   "execution_count": null,
   "metadata": {},
   "outputs": [],
   "source": [
    "appTitleName"
   ]
  },
  {
   "cell_type": "raw",
   "metadata": {},
   "source": [
    "#Now lets try to read the reviews first\n",
    "<span jsname=\"bN97Pc\">Requires a stylist. Without one and you can't properly make shapes with \n",
    "your oversized finger. Doesn't make it impossible, but after you get into \n",
    "more complex puzzles, you need much more precision. The ads are INSANE too. \n",
    "This many ads pushes me away from buying the full version because I can't \n",
    "...<div class=\"cQj82c\"><button class=\"LkLjZd ScJHi OzU4dc  \" jsaction=\"click:TiglPc\" jsname=\"gxjVle\">Full Review</button></div></span>"
   ]
  },
  {
   "cell_type": "code",
   "execution_count": null,
   "metadata": {},
   "outputs": [],
   "source": [
    "reivewSpan = soup.find_all(\"span\",{\"jsname\":\"bN97Pc\"})\n",
    "#print(reivewSpan)\n",
    "for item in reivewSpan:\n",
    "    #now we need to click the Full Review for each of the reviews in the website\n",
    "    print(item)"
   ]
  },
  {
   "cell_type": "code",
   "execution_count": null,
   "metadata": {},
   "outputs": [],
   "source": [
    "browser.quit()"
   ]
  },
  {
   "cell_type": "code",
   "execution_count": null,
   "metadata": {},
   "outputs": [],
   "source": []
  }
 ],
 "metadata": {
  "kernelspec": {
   "display_name": "Python 3",
   "language": "python",
   "name": "python3"
  },
  "language_info": {
   "codemirror_mode": {
    "name": "ipython",
    "version": 3
   },
   "file_extension": ".py",
   "mimetype": "text/x-python",
   "name": "python",
   "nbconvert_exporter": "python",
   "pygments_lexer": "ipython3",
   "version": "3.6.4"
  }
 },
 "nbformat": 4,
 "nbformat_minor": 2
}
