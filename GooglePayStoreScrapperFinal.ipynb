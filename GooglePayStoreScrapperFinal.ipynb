{
 "cells": [
  {
   "cell_type": "markdown",
   "metadata": {},
   "source": [
    "# Google Play Store scrapper"
   ]
  },
  {
   "cell_type": "markdown",
   "metadata": {},
   "source": [
    "Use this notebook to scrap google playstore and save the results as MongoDB Collection.\n",
    "Download Chrome dirver and paste it in the current working directory. - this Script tested with Mac & windows chrome driver"
   ]
  },
  {
   "cell_type": "code",
   "execution_count": 1,
   "metadata": {},
   "outputs": [
    {
     "name": "stdout",
     "output_type": "stream",
     "text": [
      "Requirement already satisfied: selenium in c:\\program files\\anaconda3\\lib\\site-packages\n",
      "Requirement already satisfied: urllib3 in c:\\program files\\anaconda3\\lib\\site-packages (from selenium)\n"
     ]
    },
    {
     "name": "stderr",
     "output_type": "stream",
     "text": [
      "You are using pip version 9.0.1, however version 18.0 is available.\n",
      "You should consider upgrading via the 'python -m pip install --upgrade pip' command.\n"
     ]
    },
    {
     "name": "stdout",
     "output_type": "stream",
     "text": [
      "Requirement already satisfied: pymongo in c:\\program files\\anaconda3\\lib\\site-packages\n"
     ]
    },
    {
     "name": "stderr",
     "output_type": "stream",
     "text": [
      "You are using pip version 9.0.1, however version 18.0 is available.\n",
      "You should consider upgrading via the 'python -m pip install --upgrade pip' command.\n"
     ]
    }
   ],
   "source": [
    "#install all required libraries \n",
    "!pip install selenium\n",
    "!pip install pymongo"
   ]
  },
  {
   "cell_type": "code",
   "execution_count": 2,
   "metadata": {
    "collapsed": true
   },
   "outputs": [],
   "source": [
    "#lets import all required packages\n",
    "from selenium import webdriver\n",
    "import time\n",
    "from bs4 import BeautifulSoup\n",
    "import os\n",
    "from selenium.webdriver.support.ui import WebDriverWait\n",
    "from selenium.webdriver.support import expected_conditions as EC\n",
    "from selenium.webdriver.common.action_chains import ActionChains\n",
    "from pymongo import MongoClient\n",
    "from selenium.webdriver.common.by import By\n",
    "import csv"
   ]
  },
  {
   "cell_type": "code",
   "execution_count": 3,
   "metadata": {
    "collapsed": true
   },
   "outputs": [],
   "source": [
    "#We will use Chorme driver - Copy chromedriver to the current directory. if different directory then use that path\n",
    "\n",
    "#if its windows uncomment below section and create driver\n",
    "#drive=webdriver.Chrome(\"chromedriver\")\n",
    "\n",
    "#below section is for MacOS\n",
    "PROJECT_ROOT = os.path.abspath(os.getcwd())\n",
    "DRIVER_BIN = os.path.join(PROJECT_ROOT, \"chromedriver\")\n",
    "\n",
    "browser = webdriver.Chrome(executable_path = DRIVER_BIN)"
   ]
  },
  {
   "cell_type": "code",
   "execution_count": 4,
   "metadata": {
    "collapsed": true
   },
   "outputs": [],
   "source": [
    "#Set timeout - Be patient and gentle to the website\n",
    "browser.set_page_load_timeout(10)"
   ]
  },
  {
   "cell_type": "code",
   "execution_count": 5,
   "metadata": {
    "collapsed": true
   },
   "outputs": [],
   "source": [
    "#here we will give the list of URLs we need to iterate over\n",
    "URLList = ['https://play.google.com/store/apps/details?id=com.orbital.brainiton',\n",
    "          'https://play.google.com/store/apps/details?id=com.jetstartgames.chess',\n",
    "          'https://play.google.com/store/apps/details?id=com.easybrain.sudoku.android']"
   ]
  },
  {
   "cell_type": "markdown",
   "metadata": {},
   "source": [
    "Below we have some usefull Methods that we will use it for this program"
   ]
  },
  {
   "cell_type": "code",
   "execution_count": 6,
   "metadata": {
    "collapsed": true
   },
   "outputs": [],
   "source": [
    "from selenium.common.exceptions import NoSuchElementException        \n",
    "def check_exists_by_xpath(xpath,browser):\n",
    "    try:\n",
    "        browser.find_element_by_xpath(xpath)\n",
    "    except NoSuchElementException:\n",
    "        return False\n",
    "    return True"
   ]
  },
  {
   "cell_type": "code",
   "execution_count": 7,
   "metadata": {
    "collapsed": true
   },
   "outputs": [],
   "source": [
    "def create_css_selector(compound_class):\n",
    "    return '.' + '.'.join(compound_class.split(' '))"
   ]
  },
  {
   "cell_type": "code",
   "execution_count": 8,
   "metadata": {
    "collapsed": true
   },
   "outputs": [],
   "source": [
    "def element_exists_by_css_selector(class_str, browser):\n",
    "    try:\n",
    "        print(class_str + \" TO \" + create_css_selector(class_str))\n",
    "        return browser.find_elements(By.CSS_SELECTOR, create_css_selector(class_str))\n",
    "    except NoSuchElementException:\n",
    "        print('//////////////////AAWWW ERROR :<////////////////')\n",
    "        return None"
   ]
  },
  {
   "cell_type": "code",
   "execution_count": 9,
   "metadata": {
    "collapsed": true
   },
   "outputs": [],
   "source": [
    "def scroll_to_div(class_str, browser):\n",
    "    element = browser.find_element(By.CLASS_NAME, class_str)\n",
    "\n",
    "    actions = ActionChains(browser)\n",
    "    actions.move_to_element(element).perform()"
   ]
  },
  {
   "cell_type": "code",
   "execution_count": 10,
   "metadata": {
    "collapsed": true
   },
   "outputs": [],
   "source": [
    "def click_on_show_more(browser):\n",
    "    banana_q = element_exists_by_css_selector('U26fgb O0WRkf oG5Srb C0oVfc n9lfJ', browser)\n",
    "    if  banana_q is not None:\n",
    "        for banana in banana_q:\n",
    "            if banana.is_displayed():\n",
    "                print('=============SHOW MORE=============')\n",
    "                banana.click()"
   ]
  },
  {
   "cell_type": "markdown",
   "metadata": {},
   "source": [
    "Below are some of the contants we have identified for each of the tags. If the program breaks check and update with new constants"
   ]
  },
  {
   "cell_type": "code",
   "execution_count": 11,
   "metadata": {
    "collapsed": true
   },
   "outputs": [],
   "source": [
    "review_section_classname = \"d15Mdf bAhLNe\"\n",
    "helpful_count_classname = \"jUL89d y92BAb\"\n",
    "rating_count_classname = \"vQHuPe bUWb7c\"\n",
    "date_classname = \"p2TkOb\"\n",
    "full_review_classname = \"fbQN7e\"    \n",
    "teaser_review_classname = \"bN97Pc\""
   ]
  },
  {
   "cell_type": "code",
   "execution_count": 12,
   "metadata": {
    "collapsed": true
   },
   "outputs": [],
   "source": [
    "#connection details to local MongoDB\n",
    "mongo_client = MongoClient()\n",
    "db = mongo_client.walkietechie\n",
    "collection = db.google_play_reviews"
   ]
  },
  {
   "cell_type": "markdown",
   "metadata": {},
   "source": [
    "Main Method to iterate and list of URLs and start the scrapping"
   ]
  },
  {
   "cell_type": "code",
   "execution_count": 17,
   "metadata": {},
   "outputs": [
    {
     "name": "stdout",
     "output_type": "stream",
     "text": [
      "Now reading -> https://play.google.com/store/apps/details?id=com.orbital.brainiton\n",
      "<selenium.webdriver.remote.webelement.WebElement (session=\"488396206f3c3dd587ddb25a9a06a84d\", element=\"0.355071981771502-1\")>\n",
      "U26fgb O0WRkf oG5Srb C0oVfc n9lfJ TO .U26fgb.O0WRkf.oG5Srb.C0oVfc.n9lfJ\n",
      "U26fgb O0WRkf oG5Srb C0oVfc n9lfJ TO .U26fgb.O0WRkf.oG5Srb.C0oVfc.n9lfJ\n",
      "U26fgb O0WRkf oG5Srb C0oVfc n9lfJ TO .U26fgb.O0WRkf.oG5Srb.C0oVfc.n9lfJ\n",
      "U26fgb O0WRkf oG5Srb C0oVfc n9lfJ TO .U26fgb.O0WRkf.oG5Srb.C0oVfc.n9lfJ\n",
      "U26fgb O0WRkf oG5Srb C0oVfc n9lfJ TO .U26fgb.O0WRkf.oG5Srb.C0oVfc.n9lfJ\n",
      "=============SHOW MORE=============\n",
      "U26fgb O0WRkf oG5Srb C0oVfc n9lfJ TO .U26fgb.O0WRkf.oG5Srb.C0oVfc.n9lfJ\n",
      "U26fgb O0WRkf oG5Srb C0oVfc n9lfJ TO .U26fgb.O0WRkf.oG5Srb.C0oVfc.n9lfJ\n",
      "U26fgb O0WRkf oG5Srb C0oVfc n9lfJ TO .U26fgb.O0WRkf.oG5Srb.C0oVfc.n9lfJ\n",
      "U26fgb O0WRkf oG5Srb C0oVfc n9lfJ TO .U26fgb.O0WRkf.oG5Srb.C0oVfc.n9lfJ\n",
      "=============SHOW MORE=============\n",
      "U26fgb O0WRkf oG5Srb C0oVfc n9lfJ TO .U26fgb.O0WRkf.oG5Srb.C0oVfc.n9lfJ\n",
      "U26fgb O0WRkf oG5Srb C0oVfc n9lfJ TO .U26fgb.O0WRkf.oG5Srb.C0oVfc.n9lfJ\n",
      "U26fgb O0WRkf oG5Srb C0oVfc n9lfJ TO .U26fgb.O0WRkf.oG5Srb.C0oVfc.n9lfJ\n",
      "U26fgb O0WRkf oG5Srb C0oVfc n9lfJ TO .U26fgb.O0WRkf.oG5Srb.C0oVfc.n9lfJ\n",
      "=============SHOW MORE=============\n",
      "U26fgb O0WRkf oG5Srb C0oVfc n9lfJ TO .U26fgb.O0WRkf.oG5Srb.C0oVfc.n9lfJ\n",
      "U26fgb O0WRkf oG5Srb C0oVfc n9lfJ TO .U26fgb.O0WRkf.oG5Srb.C0oVfc.n9lfJ\n",
      "U26fgb O0WRkf oG5Srb C0oVfc n9lfJ TO .U26fgb.O0WRkf.oG5Srb.C0oVfc.n9lfJ\n",
      "U26fgb O0WRkf oG5Srb C0oVfc n9lfJ TO .U26fgb.O0WRkf.oG5Srb.C0oVfc.n9lfJ\n",
      "=============SHOW MORE=============\n",
      "U26fgb O0WRkf oG5Srb C0oVfc n9lfJ TO .U26fgb.O0WRkf.oG5Srb.C0oVfc.n9lfJ\n",
      "U26fgb O0WRkf oG5Srb C0oVfc n9lfJ TO .U26fgb.O0WRkf.oG5Srb.C0oVfc.n9lfJ\n",
      "U26fgb O0WRkf oG5Srb C0oVfc n9lfJ TO .U26fgb.O0WRkf.oG5Srb.C0oVfc.n9lfJ\n",
      "U26fgb O0WRkf oG5Srb C0oVfc n9lfJ TO .U26fgb.O0WRkf.oG5Srb.C0oVfc.n9lfJ\n",
      "=============SHOW MORE=============\n",
      "U26fgb O0WRkf oG5Srb C0oVfc n9lfJ TO .U26fgb.O0WRkf.oG5Srb.C0oVfc.n9lfJ\n",
      "U26fgb O0WRkf oG5Srb C0oVfc n9lfJ TO .U26fgb.O0WRkf.oG5Srb.C0oVfc.n9lfJ\n",
      "U26fgb O0WRkf oG5Srb C0oVfc n9lfJ TO .U26fgb.O0WRkf.oG5Srb.C0oVfc.n9lfJ\n",
      "U26fgb O0WRkf oG5Srb C0oVfc n9lfJ TO .U26fgb.O0WRkf.oG5Srb.C0oVfc.n9lfJ\n",
      "=============SHOW MORE=============\n",
      "U26fgb O0WRkf oG5Srb C0oVfc n9lfJ TO .U26fgb.O0WRkf.oG5Srb.C0oVfc.n9lfJ\n",
      "U26fgb O0WRkf oG5Srb C0oVfc n9lfJ TO .U26fgb.O0WRkf.oG5Srb.C0oVfc.n9lfJ\n",
      "U26fgb O0WRkf oG5Srb C0oVfc n9lfJ TO .U26fgb.O0WRkf.oG5Srb.C0oVfc.n9lfJ\n",
      "U26fgb O0WRkf oG5Srb C0oVfc n9lfJ TO .U26fgb.O0WRkf.oG5Srb.C0oVfc.n9lfJ\n",
      "=============SHOW MORE=============\n",
      "U26fgb O0WRkf oG5Srb C0oVfc n9lfJ TO .U26fgb.O0WRkf.oG5Srb.C0oVfc.n9lfJ\n",
      "U26fgb O0WRkf oG5Srb C0oVfc n9lfJ TO .U26fgb.O0WRkf.oG5Srb.C0oVfc.n9lfJ\n",
      "U26fgb O0WRkf oG5Srb C0oVfc n9lfJ TO .U26fgb.O0WRkf.oG5Srb.C0oVfc.n9lfJ\n",
      "U26fgb O0WRkf oG5Srb C0oVfc n9lfJ TO .U26fgb.O0WRkf.oG5Srb.C0oVfc.n9lfJ\n",
      "=============SHOW MORE=============\n",
      "U26fgb O0WRkf oG5Srb C0oVfc n9lfJ TO .U26fgb.O0WRkf.oG5Srb.C0oVfc.n9lfJ\n",
      "U26fgb O0WRkf oG5Srb C0oVfc n9lfJ TO .U26fgb.O0WRkf.oG5Srb.C0oVfc.n9lfJ\n",
      "U26fgb O0WRkf oG5Srb C0oVfc n9lfJ TO .U26fgb.O0WRkf.oG5Srb.C0oVfc.n9lfJ\n",
      "U26fgb O0WRkf oG5Srb C0oVfc n9lfJ TO .U26fgb.O0WRkf.oG5Srb.C0oVfc.n9lfJ\n",
      "=============SHOW MORE=============\n",
      "U26fgb O0WRkf oG5Srb C0oVfc n9lfJ TO .U26fgb.O0WRkf.oG5Srb.C0oVfc.n9lfJ\n",
      "U26fgb O0WRkf oG5Srb C0oVfc n9lfJ TO .U26fgb.O0WRkf.oG5Srb.C0oVfc.n9lfJ\n",
      "U26fgb O0WRkf oG5Srb C0oVfc n9lfJ TO .U26fgb.O0WRkf.oG5Srb.C0oVfc.n9lfJ\n",
      "U26fgb O0WRkf oG5Srb C0oVfc n9lfJ TO .U26fgb.O0WRkf.oG5Srb.C0oVfc.n9lfJ\n",
      "=============SHOW MORE=============\n",
      "U26fgb O0WRkf oG5Srb C0oVfc n9lfJ TO .U26fgb.O0WRkf.oG5Srb.C0oVfc.n9lfJ\n",
      "U26fgb O0WRkf oG5Srb C0oVfc n9lfJ TO .U26fgb.O0WRkf.oG5Srb.C0oVfc.n9lfJ\n",
      "U26fgb O0WRkf oG5Srb C0oVfc n9lfJ TO .U26fgb.O0WRkf.oG5Srb.C0oVfc.n9lfJ\n",
      "=============SHOW MORE=============\n",
      "U26fgb O0WRkf oG5Srb C0oVfc n9lfJ TO .U26fgb.O0WRkf.oG5Srb.C0oVfc.n9lfJ\n",
      "U26fgb O0WRkf oG5Srb C0oVfc n9lfJ TO .U26fgb.O0WRkf.oG5Srb.C0oVfc.n9lfJ\n",
      "U26fgb O0WRkf oG5Srb C0oVfc n9lfJ TO .U26fgb.O0WRkf.oG5Srb.C0oVfc.n9lfJ\n",
      "=============SHOW MORE=============\n",
      "U26fgb O0WRkf oG5Srb C0oVfc n9lfJ TO .U26fgb.O0WRkf.oG5Srb.C0oVfc.n9lfJ\n",
      "U26fgb O0WRkf oG5Srb C0oVfc n9lfJ TO .U26fgb.O0WRkf.oG5Srb.C0oVfc.n9lfJ\n",
      "U26fgb O0WRkf oG5Srb C0oVfc n9lfJ TO .U26fgb.O0WRkf.oG5Srb.C0oVfc.n9lfJ\n",
      "U26fgb O0WRkf oG5Srb C0oVfc n9lfJ TO .U26fgb.O0WRkf.oG5Srb.C0oVfc.n9lfJ\n",
      "=============SHOW MORE=============\n",
      "U26fgb O0WRkf oG5Srb C0oVfc n9lfJ TO .U26fgb.O0WRkf.oG5Srb.C0oVfc.n9lfJ\n",
      "U26fgb O0WRkf oG5Srb C0oVfc n9lfJ TO .U26fgb.O0WRkf.oG5Srb.C0oVfc.n9lfJ\n",
      "U26fgb O0WRkf oG5Srb C0oVfc n9lfJ TO .U26fgb.O0WRkf.oG5Srb.C0oVfc.n9lfJ\n",
      "U26fgb O0WRkf oG5Srb C0oVfc n9lfJ TO .U26fgb.O0WRkf.oG5Srb.C0oVfc.n9lfJ\n",
      "=============SHOW MORE=============\n",
      "U26fgb O0WRkf oG5Srb C0oVfc n9lfJ TO .U26fgb.O0WRkf.oG5Srb.C0oVfc.n9lfJ\n",
      "U26fgb O0WRkf oG5Srb C0oVfc n9lfJ TO .U26fgb.O0WRkf.oG5Srb.C0oVfc.n9lfJ\n",
      "U26fgb O0WRkf oG5Srb C0oVfc n9lfJ TO .U26fgb.O0WRkf.oG5Srb.C0oVfc.n9lfJ\n",
      "U26fgb O0WRkf oG5Srb C0oVfc n9lfJ TO .U26fgb.O0WRkf.oG5Srb.C0oVfc.n9lfJ\n",
      "=============SHOW MORE=============\n",
      "U26fgb O0WRkf oG5Srb C0oVfc n9lfJ TO .U26fgb.O0WRkf.oG5Srb.C0oVfc.n9lfJ\n",
      "U26fgb O0WRkf oG5Srb C0oVfc n9lfJ TO .U26fgb.O0WRkf.oG5Srb.C0oVfc.n9lfJ\n",
      "U26fgb O0WRkf oG5Srb C0oVfc n9lfJ TO .U26fgb.O0WRkf.oG5Srb.C0oVfc.n9lfJ\n",
      "=============SHOW MORE=============\n",
      "U26fgb O0WRkf oG5Srb C0oVfc n9lfJ TO .U26fgb.O0WRkf.oG5Srb.C0oVfc.n9lfJ\n",
      "U26fgb O0WRkf oG5Srb C0oVfc n9lfJ TO .U26fgb.O0WRkf.oG5Srb.C0oVfc.n9lfJ\n",
      "U26fgb O0WRkf oG5Srb C0oVfc n9lfJ TO .U26fgb.O0WRkf.oG5Srb.C0oVfc.n9lfJ\n",
      "=============SHOW MORE=============\n",
      "U26fgb O0WRkf oG5Srb C0oVfc n9lfJ TO .U26fgb.O0WRkf.oG5Srb.C0oVfc.n9lfJ\n",
      "U26fgb O0WRkf oG5Srb C0oVfc n9lfJ TO .U26fgb.O0WRkf.oG5Srb.C0oVfc.n9lfJ\n",
      "U26fgb O0WRkf oG5Srb C0oVfc n9lfJ TO .U26fgb.O0WRkf.oG5Srb.C0oVfc.n9lfJ\n",
      "=============SHOW MORE=============\n",
      "U26fgb O0WRkf oG5Srb C0oVfc n9lfJ TO .U26fgb.O0WRkf.oG5Srb.C0oVfc.n9lfJ\n",
      "U26fgb O0WRkf oG5Srb C0oVfc n9lfJ TO .U26fgb.O0WRkf.oG5Srb.C0oVfc.n9lfJ\n",
      "U26fgb O0WRkf oG5Srb C0oVfc n9lfJ TO .U26fgb.O0WRkf.oG5Srb.C0oVfc.n9lfJ\n",
      "=============SHOW MORE=============\n",
      "U26fgb O0WRkf oG5Srb C0oVfc n9lfJ TO .U26fgb.O0WRkf.oG5Srb.C0oVfc.n9lfJ\n",
      "U26fgb O0WRkf oG5Srb C0oVfc n9lfJ TO .U26fgb.O0WRkf.oG5Srb.C0oVfc.n9lfJ\n",
      "U26fgb O0WRkf oG5Srb C0oVfc n9lfJ TO .U26fgb.O0WRkf.oG5Srb.C0oVfc.n9lfJ\n",
      "=============SHOW MORE=============\n",
      "U26fgb O0WRkf oG5Srb C0oVfc n9lfJ TO .U26fgb.O0WRkf.oG5Srb.C0oVfc.n9lfJ\n",
      "U26fgb O0WRkf oG5Srb C0oVfc n9lfJ TO .U26fgb.O0WRkf.oG5Srb.C0oVfc.n9lfJ\n",
      "U26fgb O0WRkf oG5Srb C0oVfc n9lfJ TO .U26fgb.O0WRkf.oG5Srb.C0oVfc.n9lfJ\n",
      "=============SHOW MORE=============\n",
      "U26fgb O0WRkf oG5Srb C0oVfc n9lfJ TO .U26fgb.O0WRkf.oG5Srb.C0oVfc.n9lfJ\n",
      "U26fgb O0WRkf oG5Srb C0oVfc n9lfJ TO .U26fgb.O0WRkf.oG5Srb.C0oVfc.n9lfJ\n",
      "U26fgb O0WRkf oG5Srb C0oVfc n9lfJ TO .U26fgb.O0WRkf.oG5Srb.C0oVfc.n9lfJ\n",
      "=============SHOW MORE=============\n",
      "U26fgb O0WRkf oG5Srb C0oVfc n9lfJ TO .U26fgb.O0WRkf.oG5Srb.C0oVfc.n9lfJ\n",
      "U26fgb O0WRkf oG5Srb C0oVfc n9lfJ TO .U26fgb.O0WRkf.oG5Srb.C0oVfc.n9lfJ\n",
      "U26fgb O0WRkf oG5Srb C0oVfc n9lfJ TO .U26fgb.O0WRkf.oG5Srb.C0oVfc.n9lfJ\n",
      "=============SHOW MORE=============\n",
      "U26fgb O0WRkf oG5Srb C0oVfc n9lfJ TO .U26fgb.O0WRkf.oG5Srb.C0oVfc.n9lfJ\n",
      "U26fgb O0WRkf oG5Srb C0oVfc n9lfJ TO .U26fgb.O0WRkf.oG5Srb.C0oVfc.n9lfJ\n",
      "U26fgb O0WRkf oG5Srb C0oVfc n9lfJ TO .U26fgb.O0WRkf.oG5Srb.C0oVfc.n9lfJ\n",
      "=============SHOW MORE=============\n",
      "U26fgb O0WRkf oG5Srb C0oVfc n9lfJ TO .U26fgb.O0WRkf.oG5Srb.C0oVfc.n9lfJ\n",
      "U26fgb O0WRkf oG5Srb C0oVfc n9lfJ TO .U26fgb.O0WRkf.oG5Srb.C0oVfc.n9lfJ\n",
      "U26fgb O0WRkf oG5Srb C0oVfc n9lfJ TO .U26fgb.O0WRkf.oG5Srb.C0oVfc.n9lfJ\n",
      "=============SHOW MORE=============\n",
      "U26fgb O0WRkf oG5Srb C0oVfc n9lfJ TO .U26fgb.O0WRkf.oG5Srb.C0oVfc.n9lfJ\n",
      "U26fgb O0WRkf oG5Srb C0oVfc n9lfJ TO .U26fgb.O0WRkf.oG5Srb.C0oVfc.n9lfJ\n",
      "U26fgb O0WRkf oG5Srb C0oVfc n9lfJ TO .U26fgb.O0WRkf.oG5Srb.C0oVfc.n9lfJ\n",
      "=============SHOW MORE=============\n",
      "U26fgb O0WRkf oG5Srb C0oVfc n9lfJ TO .U26fgb.O0WRkf.oG5Srb.C0oVfc.n9lfJ\n",
      "U26fgb O0WRkf oG5Srb C0oVfc n9lfJ TO .U26fgb.O0WRkf.oG5Srb.C0oVfc.n9lfJ\n",
      "U26fgb O0WRkf oG5Srb C0oVfc n9lfJ TO .U26fgb.O0WRkf.oG5Srb.C0oVfc.n9lfJ\n",
      "=============SHOW MORE=============\n",
      "U26fgb O0WRkf oG5Srb C0oVfc n9lfJ TO .U26fgb.O0WRkf.oG5Srb.C0oVfc.n9lfJ\n",
      "U26fgb O0WRkf oG5Srb C0oVfc n9lfJ TO .U26fgb.O0WRkf.oG5Srb.C0oVfc.n9lfJ\n",
      "U26fgb O0WRkf oG5Srb C0oVfc n9lfJ TO .U26fgb.O0WRkf.oG5Srb.C0oVfc.n9lfJ\n",
      "=============SHOW MORE=============\n"
     ]
    },
    {
     "name": "stdout",
     "output_type": "stream",
     "text": [
      "U26fgb O0WRkf oG5Srb C0oVfc n9lfJ TO .U26fgb.O0WRkf.oG5Srb.C0oVfc.n9lfJ\n",
      "U26fgb O0WRkf oG5Srb C0oVfc n9lfJ TO .U26fgb.O0WRkf.oG5Srb.C0oVfc.n9lfJ\n",
      "U26fgb O0WRkf oG5Srb C0oVfc n9lfJ TO .U26fgb.O0WRkf.oG5Srb.C0oVfc.n9lfJ\n",
      "=============SHOW MORE=============\n",
      "U26fgb O0WRkf oG5Srb C0oVfc n9lfJ TO .U26fgb.O0WRkf.oG5Srb.C0oVfc.n9lfJ\n",
      "U26fgb O0WRkf oG5Srb C0oVfc n9lfJ TO .U26fgb.O0WRkf.oG5Srb.C0oVfc.n9lfJ\n",
      "U26fgb O0WRkf oG5Srb C0oVfc n9lfJ TO .U26fgb.O0WRkf.oG5Srb.C0oVfc.n9lfJ\n",
      "=============SHOW MORE=============\n",
      "U26fgb O0WRkf oG5Srb C0oVfc n9lfJ TO .U26fgb.O0WRkf.oG5Srb.C0oVfc.n9lfJ\n",
      "U26fgb O0WRkf oG5Srb C0oVfc n9lfJ TO .U26fgb.O0WRkf.oG5Srb.C0oVfc.n9lfJ\n",
      "U26fgb O0WRkf oG5Srb C0oVfc n9lfJ TO .U26fgb.O0WRkf.oG5Srb.C0oVfc.n9lfJ\n",
      "=============SHOW MORE=============\n",
      "U26fgb O0WRkf oG5Srb C0oVfc n9lfJ TO .U26fgb.O0WRkf.oG5Srb.C0oVfc.n9lfJ\n",
      "U26fgb O0WRkf oG5Srb C0oVfc n9lfJ TO .U26fgb.O0WRkf.oG5Srb.C0oVfc.n9lfJ\n",
      "U26fgb O0WRkf oG5Srb C0oVfc n9lfJ TO .U26fgb.O0WRkf.oG5Srb.C0oVfc.n9lfJ\n",
      "=============SHOW MORE=============\n",
      "U26fgb O0WRkf oG5Srb C0oVfc n9lfJ TO .U26fgb.O0WRkf.oG5Srb.C0oVfc.n9lfJ\n",
      "U26fgb O0WRkf oG5Srb C0oVfc n9lfJ TO .U26fgb.O0WRkf.oG5Srb.C0oVfc.n9lfJ\n",
      "U26fgb O0WRkf oG5Srb C0oVfc n9lfJ TO .U26fgb.O0WRkf.oG5Srb.C0oVfc.n9lfJ\n",
      "=============SHOW MORE=============\n",
      "U26fgb O0WRkf oG5Srb C0oVfc n9lfJ TO .U26fgb.O0WRkf.oG5Srb.C0oVfc.n9lfJ\n",
      "U26fgb O0WRkf oG5Srb C0oVfc n9lfJ TO .U26fgb.O0WRkf.oG5Srb.C0oVfc.n9lfJ\n",
      "U26fgb O0WRkf oG5Srb C0oVfc n9lfJ TO .U26fgb.O0WRkf.oG5Srb.C0oVfc.n9lfJ\n",
      "=============SHOW MORE=============\n",
      "U26fgb O0WRkf oG5Srb C0oVfc n9lfJ TO .U26fgb.O0WRkf.oG5Srb.C0oVfc.n9lfJ\n",
      "U26fgb O0WRkf oG5Srb C0oVfc n9lfJ TO .U26fgb.O0WRkf.oG5Srb.C0oVfc.n9lfJ\n",
      "U26fgb O0WRkf oG5Srb C0oVfc n9lfJ TO .U26fgb.O0WRkf.oG5Srb.C0oVfc.n9lfJ\n",
      "=============SHOW MORE=============\n",
      "U26fgb O0WRkf oG5Srb C0oVfc n9lfJ TO .U26fgb.O0WRkf.oG5Srb.C0oVfc.n9lfJ\n",
      "U26fgb O0WRkf oG5Srb C0oVfc n9lfJ TO .U26fgb.O0WRkf.oG5Srb.C0oVfc.n9lfJ\n",
      "U26fgb O0WRkf oG5Srb C0oVfc n9lfJ TO .U26fgb.O0WRkf.oG5Srb.C0oVfc.n9lfJ\n",
      "=============SHOW MORE=============\n",
      "U26fgb O0WRkf oG5Srb C0oVfc n9lfJ TO .U26fgb.O0WRkf.oG5Srb.C0oVfc.n9lfJ\n",
      "U26fgb O0WRkf oG5Srb C0oVfc n9lfJ TO .U26fgb.O0WRkf.oG5Srb.C0oVfc.n9lfJ\n",
      "U26fgb O0WRkf oG5Srb C0oVfc n9lfJ TO .U26fgb.O0WRkf.oG5Srb.C0oVfc.n9lfJ\n",
      "=============SHOW MORE=============\n",
      "U26fgb O0WRkf oG5Srb C0oVfc n9lfJ TO .U26fgb.O0WRkf.oG5Srb.C0oVfc.n9lfJ\n",
      "U26fgb O0WRkf oG5Srb C0oVfc n9lfJ TO .U26fgb.O0WRkf.oG5Srb.C0oVfc.n9lfJ\n",
      "U26fgb O0WRkf oG5Srb C0oVfc n9lfJ TO .U26fgb.O0WRkf.oG5Srb.C0oVfc.n9lfJ\n",
      "=============SHOW MORE=============\n",
      "U26fgb O0WRkf oG5Srb C0oVfc n9lfJ TO .U26fgb.O0WRkf.oG5Srb.C0oVfc.n9lfJ\n",
      "U26fgb O0WRkf oG5Srb C0oVfc n9lfJ TO .U26fgb.O0WRkf.oG5Srb.C0oVfc.n9lfJ\n",
      "U26fgb O0WRkf oG5Srb C0oVfc n9lfJ TO .U26fgb.O0WRkf.oG5Srb.C0oVfc.n9lfJ\n",
      "=============SHOW MORE=============\n",
      "U26fgb O0WRkf oG5Srb C0oVfc n9lfJ TO .U26fgb.O0WRkf.oG5Srb.C0oVfc.n9lfJ\n",
      "U26fgb O0WRkf oG5Srb C0oVfc n9lfJ TO .U26fgb.O0WRkf.oG5Srb.C0oVfc.n9lfJ\n",
      "U26fgb O0WRkf oG5Srb C0oVfc n9lfJ TO .U26fgb.O0WRkf.oG5Srb.C0oVfc.n9lfJ\n",
      "=============SHOW MORE=============\n",
      "U26fgb O0WRkf oG5Srb C0oVfc n9lfJ TO .U26fgb.O0WRkf.oG5Srb.C0oVfc.n9lfJ\n",
      "U26fgb O0WRkf oG5Srb C0oVfc n9lfJ TO .U26fgb.O0WRkf.oG5Srb.C0oVfc.n9lfJ\n",
      "U26fgb O0WRkf oG5Srb C0oVfc n9lfJ TO .U26fgb.O0WRkf.oG5Srb.C0oVfc.n9lfJ\n",
      "=============SHOW MORE=============\n",
      "U26fgb O0WRkf oG5Srb C0oVfc n9lfJ TO .U26fgb.O0WRkf.oG5Srb.C0oVfc.n9lfJ\n",
      "U26fgb O0WRkf oG5Srb C0oVfc n9lfJ TO .U26fgb.O0WRkf.oG5Srb.C0oVfc.n9lfJ\n",
      "U26fgb O0WRkf oG5Srb C0oVfc n9lfJ TO .U26fgb.O0WRkf.oG5Srb.C0oVfc.n9lfJ\n",
      "=============SHOW MORE=============\n",
      "U26fgb O0WRkf oG5Srb C0oVfc n9lfJ TO .U26fgb.O0WRkf.oG5Srb.C0oVfc.n9lfJ\n",
      "U26fgb O0WRkf oG5Srb C0oVfc n9lfJ TO .U26fgb.O0WRkf.oG5Srb.C0oVfc.n9lfJ\n",
      "U26fgb O0WRkf oG5Srb C0oVfc n9lfJ TO .U26fgb.O0WRkf.oG5Srb.C0oVfc.n9lfJ\n",
      "=============SHOW MORE=============\n",
      "U26fgb O0WRkf oG5Srb C0oVfc n9lfJ TO .U26fgb.O0WRkf.oG5Srb.C0oVfc.n9lfJ\n",
      "U26fgb O0WRkf oG5Srb C0oVfc n9lfJ TO .U26fgb.O0WRkf.oG5Srb.C0oVfc.n9lfJ\n",
      "U26fgb O0WRkf oG5Srb C0oVfc n9lfJ TO .U26fgb.O0WRkf.oG5Srb.C0oVfc.n9lfJ\n",
      "=============SHOW MORE=============\n",
      "U26fgb O0WRkf oG5Srb C0oVfc n9lfJ TO .U26fgb.O0WRkf.oG5Srb.C0oVfc.n9lfJ\n",
      "U26fgb O0WRkf oG5Srb C0oVfc n9lfJ TO .U26fgb.O0WRkf.oG5Srb.C0oVfc.n9lfJ\n",
      "U26fgb O0WRkf oG5Srb C0oVfc n9lfJ TO .U26fgb.O0WRkf.oG5Srb.C0oVfc.n9lfJ\n",
      "=============SHOW MORE=============\n",
      "U26fgb O0WRkf oG5Srb C0oVfc n9lfJ TO .U26fgb.O0WRkf.oG5Srb.C0oVfc.n9lfJ\n",
      "U26fgb O0WRkf oG5Srb C0oVfc n9lfJ TO .U26fgb.O0WRkf.oG5Srb.C0oVfc.n9lfJ\n",
      "U26fgb O0WRkf oG5Srb C0oVfc n9lfJ TO .U26fgb.O0WRkf.oG5Srb.C0oVfc.n9lfJ\n",
      "=============SHOW MORE=============\n",
      "U26fgb O0WRkf oG5Srb C0oVfc n9lfJ TO .U26fgb.O0WRkf.oG5Srb.C0oVfc.n9lfJ\n",
      "U26fgb O0WRkf oG5Srb C0oVfc n9lfJ TO .U26fgb.O0WRkf.oG5Srb.C0oVfc.n9lfJ\n",
      "U26fgb O0WRkf oG5Srb C0oVfc n9lfJ TO .U26fgb.O0WRkf.oG5Srb.C0oVfc.n9lfJ\n",
      "=============SHOW MORE=============\n",
      "U26fgb O0WRkf oG5Srb C0oVfc n9lfJ TO .U26fgb.O0WRkf.oG5Srb.C0oVfc.n9lfJ\n",
      "U26fgb O0WRkf oG5Srb C0oVfc n9lfJ TO .U26fgb.O0WRkf.oG5Srb.C0oVfc.n9lfJ\n",
      "U26fgb O0WRkf oG5Srb C0oVfc n9lfJ TO .U26fgb.O0WRkf.oG5Srb.C0oVfc.n9lfJ\n",
      "=============SHOW MORE=============\n",
      "U26fgb O0WRkf oG5Srb C0oVfc n9lfJ TO .U26fgb.O0WRkf.oG5Srb.C0oVfc.n9lfJ\n",
      "U26fgb O0WRkf oG5Srb C0oVfc n9lfJ TO .U26fgb.O0WRkf.oG5Srb.C0oVfc.n9lfJ\n",
      "U26fgb O0WRkf oG5Srb C0oVfc n9lfJ TO .U26fgb.O0WRkf.oG5Srb.C0oVfc.n9lfJ\n",
      "=============SHOW MORE=============\n",
      "U26fgb O0WRkf oG5Srb C0oVfc n9lfJ TO .U26fgb.O0WRkf.oG5Srb.C0oVfc.n9lfJ\n",
      "U26fgb O0WRkf oG5Srb C0oVfc n9lfJ TO .U26fgb.O0WRkf.oG5Srb.C0oVfc.n9lfJ\n",
      "U26fgb O0WRkf oG5Srb C0oVfc n9lfJ TO .U26fgb.O0WRkf.oG5Srb.C0oVfc.n9lfJ\n",
      "=============SHOW MORE=============\n",
      "U26fgb O0WRkf oG5Srb C0oVfc n9lfJ TO .U26fgb.O0WRkf.oG5Srb.C0oVfc.n9lfJ\n",
      "U26fgb O0WRkf oG5Srb C0oVfc n9lfJ TO .U26fgb.O0WRkf.oG5Srb.C0oVfc.n9lfJ\n",
      "U26fgb O0WRkf oG5Srb C0oVfc n9lfJ TO .U26fgb.O0WRkf.oG5Srb.C0oVfc.n9lfJ\n",
      "=============SHOW MORE=============\n",
      "U26fgb O0WRkf oG5Srb C0oVfc n9lfJ TO .U26fgb.O0WRkf.oG5Srb.C0oVfc.n9lfJ\n",
      "U26fgb O0WRkf oG5Srb C0oVfc n9lfJ TO .U26fgb.O0WRkf.oG5Srb.C0oVfc.n9lfJ\n",
      "U26fgb O0WRkf oG5Srb C0oVfc n9lfJ TO .U26fgb.O0WRkf.oG5Srb.C0oVfc.n9lfJ\n",
      "=============SHOW MORE=============\n",
      "U26fgb O0WRkf oG5Srb C0oVfc n9lfJ TO .U26fgb.O0WRkf.oG5Srb.C0oVfc.n9lfJ\n",
      "Will exit here\n"
     ]
    },
    {
     "ename": "MaxRetryError",
     "evalue": "HTTPConnectionPool(host='127.0.0.1', port=63270): Max retries exceeded with url: /session/488396206f3c3dd587ddb25a9a06a84d/source (Caused by NewConnectionError('<urllib3.connection.HTTPConnection object at 0x000001E7A88E46D8>: Failed to establish a new connection: [WinError 10061] No connection could be made because the target machine actively refused it',))",
     "output_type": "error",
     "traceback": [
      "\u001b[1;31m---------------------------------------------------------------------------\u001b[0m",
      "\u001b[1;31mConnectionRefusedError\u001b[0m                    Traceback (most recent call last)",
      "\u001b[1;32mC:\\Program Files\\Anaconda3\\lib\\site-packages\\urllib3\\connection.py\u001b[0m in \u001b[0;36m_new_conn\u001b[1;34m(self)\u001b[0m\n\u001b[0;32m    170\u001b[0m             conn = connection.create_connection(\n\u001b[1;32m--> 171\u001b[1;33m                 (self._dns_host, self.port), self.timeout, **extra_kw)\n\u001b[0m\u001b[0;32m    172\u001b[0m \u001b[1;33m\u001b[0m\u001b[0m\n",
      "\u001b[1;32mC:\\Program Files\\Anaconda3\\lib\\site-packages\\urllib3\\util\\connection.py\u001b[0m in \u001b[0;36mcreate_connection\u001b[1;34m(address, timeout, source_address, socket_options)\u001b[0m\n\u001b[0;32m     78\u001b[0m     \u001b[1;32mif\u001b[0m \u001b[0merr\u001b[0m \u001b[1;32mis\u001b[0m \u001b[1;32mnot\u001b[0m \u001b[1;32mNone\u001b[0m\u001b[1;33m:\u001b[0m\u001b[1;33m\u001b[0m\u001b[0m\n\u001b[1;32m---> 79\u001b[1;33m         \u001b[1;32mraise\u001b[0m \u001b[0merr\u001b[0m\u001b[1;33m\u001b[0m\u001b[0m\n\u001b[0m\u001b[0;32m     80\u001b[0m \u001b[1;33m\u001b[0m\u001b[0m\n",
      "\u001b[1;32mC:\\Program Files\\Anaconda3\\lib\\site-packages\\urllib3\\util\\connection.py\u001b[0m in \u001b[0;36mcreate_connection\u001b[1;34m(address, timeout, source_address, socket_options)\u001b[0m\n\u001b[0;32m     68\u001b[0m                 \u001b[0msock\u001b[0m\u001b[1;33m.\u001b[0m\u001b[0mbind\u001b[0m\u001b[1;33m(\u001b[0m\u001b[0msource_address\u001b[0m\u001b[1;33m)\u001b[0m\u001b[1;33m\u001b[0m\u001b[0m\n\u001b[1;32m---> 69\u001b[1;33m             \u001b[0msock\u001b[0m\u001b[1;33m.\u001b[0m\u001b[0mconnect\u001b[0m\u001b[1;33m(\u001b[0m\u001b[0msa\u001b[0m\u001b[1;33m)\u001b[0m\u001b[1;33m\u001b[0m\u001b[0m\n\u001b[0m\u001b[0;32m     70\u001b[0m             \u001b[1;32mreturn\u001b[0m \u001b[0msock\u001b[0m\u001b[1;33m\u001b[0m\u001b[0m\n",
      "\u001b[1;31mConnectionRefusedError\u001b[0m: [WinError 10061] No connection could be made because the target machine actively refused it",
      "\nDuring handling of the above exception, another exception occurred:\n",
      "\u001b[1;31mNewConnectionError\u001b[0m                        Traceback (most recent call last)",
      "\u001b[1;32mC:\\Program Files\\Anaconda3\\lib\\site-packages\\urllib3\\connectionpool.py\u001b[0m in \u001b[0;36murlopen\u001b[1;34m(self, method, url, body, headers, retries, redirect, assert_same_host, timeout, pool_timeout, release_conn, chunked, body_pos, **response_kw)\u001b[0m\n\u001b[0;32m    599\u001b[0m                                                   \u001b[0mbody\u001b[0m\u001b[1;33m=\u001b[0m\u001b[0mbody\u001b[0m\u001b[1;33m,\u001b[0m \u001b[0mheaders\u001b[0m\u001b[1;33m=\u001b[0m\u001b[0mheaders\u001b[0m\u001b[1;33m,\u001b[0m\u001b[1;33m\u001b[0m\u001b[0m\n\u001b[1;32m--> 600\u001b[1;33m                                                   chunked=chunked)\n\u001b[0m\u001b[0;32m    601\u001b[0m \u001b[1;33m\u001b[0m\u001b[0m\n",
      "\u001b[1;32mC:\\Program Files\\Anaconda3\\lib\\site-packages\\urllib3\\connectionpool.py\u001b[0m in \u001b[0;36m_make_request\u001b[1;34m(self, conn, method, url, timeout, chunked, **httplib_request_kw)\u001b[0m\n\u001b[0;32m    353\u001b[0m         \u001b[1;32melse\u001b[0m\u001b[1;33m:\u001b[0m\u001b[1;33m\u001b[0m\u001b[0m\n\u001b[1;32m--> 354\u001b[1;33m             \u001b[0mconn\u001b[0m\u001b[1;33m.\u001b[0m\u001b[0mrequest\u001b[0m\u001b[1;33m(\u001b[0m\u001b[0mmethod\u001b[0m\u001b[1;33m,\u001b[0m \u001b[0murl\u001b[0m\u001b[1;33m,\u001b[0m \u001b[1;33m**\u001b[0m\u001b[0mhttplib_request_kw\u001b[0m\u001b[1;33m)\u001b[0m\u001b[1;33m\u001b[0m\u001b[0m\n\u001b[0m\u001b[0;32m    355\u001b[0m \u001b[1;33m\u001b[0m\u001b[0m\n",
      "\u001b[1;32mC:\\Program Files\\Anaconda3\\lib\\http\\client.py\u001b[0m in \u001b[0;36mrequest\u001b[1;34m(self, method, url, body, headers, encode_chunked)\u001b[0m\n\u001b[0;32m   1238\u001b[0m         \u001b[1;34m\"\"\"Send a complete request to the server.\"\"\"\u001b[0m\u001b[1;33m\u001b[0m\u001b[0m\n\u001b[1;32m-> 1239\u001b[1;33m         \u001b[0mself\u001b[0m\u001b[1;33m.\u001b[0m\u001b[0m_send_request\u001b[0m\u001b[1;33m(\u001b[0m\u001b[0mmethod\u001b[0m\u001b[1;33m,\u001b[0m \u001b[0murl\u001b[0m\u001b[1;33m,\u001b[0m \u001b[0mbody\u001b[0m\u001b[1;33m,\u001b[0m \u001b[0mheaders\u001b[0m\u001b[1;33m,\u001b[0m \u001b[0mencode_chunked\u001b[0m\u001b[1;33m)\u001b[0m\u001b[1;33m\u001b[0m\u001b[0m\n\u001b[0m\u001b[0;32m   1240\u001b[0m \u001b[1;33m\u001b[0m\u001b[0m\n",
      "\u001b[1;32mC:\\Program Files\\Anaconda3\\lib\\http\\client.py\u001b[0m in \u001b[0;36m_send_request\u001b[1;34m(self, method, url, body, headers, encode_chunked)\u001b[0m\n\u001b[0;32m   1284\u001b[0m             \u001b[0mbody\u001b[0m \u001b[1;33m=\u001b[0m \u001b[0m_encode\u001b[0m\u001b[1;33m(\u001b[0m\u001b[0mbody\u001b[0m\u001b[1;33m,\u001b[0m \u001b[1;34m'body'\u001b[0m\u001b[1;33m)\u001b[0m\u001b[1;33m\u001b[0m\u001b[0m\n\u001b[1;32m-> 1285\u001b[1;33m         \u001b[0mself\u001b[0m\u001b[1;33m.\u001b[0m\u001b[0mendheaders\u001b[0m\u001b[1;33m(\u001b[0m\u001b[0mbody\u001b[0m\u001b[1;33m,\u001b[0m \u001b[0mencode_chunked\u001b[0m\u001b[1;33m=\u001b[0m\u001b[0mencode_chunked\u001b[0m\u001b[1;33m)\u001b[0m\u001b[1;33m\u001b[0m\u001b[0m\n\u001b[0m\u001b[0;32m   1286\u001b[0m \u001b[1;33m\u001b[0m\u001b[0m\n",
      "\u001b[1;32mC:\\Program Files\\Anaconda3\\lib\\http\\client.py\u001b[0m in \u001b[0;36mendheaders\u001b[1;34m(self, message_body, encode_chunked)\u001b[0m\n\u001b[0;32m   1233\u001b[0m             \u001b[1;32mraise\u001b[0m \u001b[0mCannotSendHeader\u001b[0m\u001b[1;33m(\u001b[0m\u001b[1;33m)\u001b[0m\u001b[1;33m\u001b[0m\u001b[0m\n\u001b[1;32m-> 1234\u001b[1;33m         \u001b[0mself\u001b[0m\u001b[1;33m.\u001b[0m\u001b[0m_send_output\u001b[0m\u001b[1;33m(\u001b[0m\u001b[0mmessage_body\u001b[0m\u001b[1;33m,\u001b[0m \u001b[0mencode_chunked\u001b[0m\u001b[1;33m=\u001b[0m\u001b[0mencode_chunked\u001b[0m\u001b[1;33m)\u001b[0m\u001b[1;33m\u001b[0m\u001b[0m\n\u001b[0m\u001b[0;32m   1235\u001b[0m \u001b[1;33m\u001b[0m\u001b[0m\n",
      "\u001b[1;32mC:\\Program Files\\Anaconda3\\lib\\http\\client.py\u001b[0m in \u001b[0;36m_send_output\u001b[1;34m(self, message_body, encode_chunked)\u001b[0m\n\u001b[0;32m   1025\u001b[0m         \u001b[1;32mdel\u001b[0m \u001b[0mself\u001b[0m\u001b[1;33m.\u001b[0m\u001b[0m_buffer\u001b[0m\u001b[1;33m[\u001b[0m\u001b[1;33m:\u001b[0m\u001b[1;33m]\u001b[0m\u001b[1;33m\u001b[0m\u001b[0m\n\u001b[1;32m-> 1026\u001b[1;33m         \u001b[0mself\u001b[0m\u001b[1;33m.\u001b[0m\u001b[0msend\u001b[0m\u001b[1;33m(\u001b[0m\u001b[0mmsg\u001b[0m\u001b[1;33m)\u001b[0m\u001b[1;33m\u001b[0m\u001b[0m\n\u001b[0m\u001b[0;32m   1027\u001b[0m \u001b[1;33m\u001b[0m\u001b[0m\n",
      "\u001b[1;32mC:\\Program Files\\Anaconda3\\lib\\http\\client.py\u001b[0m in \u001b[0;36msend\u001b[1;34m(self, data)\u001b[0m\n\u001b[0;32m    963\u001b[0m             \u001b[1;32mif\u001b[0m \u001b[0mself\u001b[0m\u001b[1;33m.\u001b[0m\u001b[0mauto_open\u001b[0m\u001b[1;33m:\u001b[0m\u001b[1;33m\u001b[0m\u001b[0m\n\u001b[1;32m--> 964\u001b[1;33m                 \u001b[0mself\u001b[0m\u001b[1;33m.\u001b[0m\u001b[0mconnect\u001b[0m\u001b[1;33m(\u001b[0m\u001b[1;33m)\u001b[0m\u001b[1;33m\u001b[0m\u001b[0m\n\u001b[0m\u001b[0;32m    965\u001b[0m             \u001b[1;32melse\u001b[0m\u001b[1;33m:\u001b[0m\u001b[1;33m\u001b[0m\u001b[0m\n",
      "\u001b[1;32mC:\\Program Files\\Anaconda3\\lib\\site-packages\\urllib3\\connection.py\u001b[0m in \u001b[0;36mconnect\u001b[1;34m(self)\u001b[0m\n\u001b[0;32m    195\u001b[0m     \u001b[1;32mdef\u001b[0m \u001b[0mconnect\u001b[0m\u001b[1;33m(\u001b[0m\u001b[0mself\u001b[0m\u001b[1;33m)\u001b[0m\u001b[1;33m:\u001b[0m\u001b[1;33m\u001b[0m\u001b[0m\n\u001b[1;32m--> 196\u001b[1;33m         \u001b[0mconn\u001b[0m \u001b[1;33m=\u001b[0m \u001b[0mself\u001b[0m\u001b[1;33m.\u001b[0m\u001b[0m_new_conn\u001b[0m\u001b[1;33m(\u001b[0m\u001b[1;33m)\u001b[0m\u001b[1;33m\u001b[0m\u001b[0m\n\u001b[0m\u001b[0;32m    197\u001b[0m         \u001b[0mself\u001b[0m\u001b[1;33m.\u001b[0m\u001b[0m_prepare_conn\u001b[0m\u001b[1;33m(\u001b[0m\u001b[0mconn\u001b[0m\u001b[1;33m)\u001b[0m\u001b[1;33m\u001b[0m\u001b[0m\n",
      "\u001b[1;32mC:\\Program Files\\Anaconda3\\lib\\site-packages\\urllib3\\connection.py\u001b[0m in \u001b[0;36m_new_conn\u001b[1;34m(self)\u001b[0m\n\u001b[0;32m    179\u001b[0m             raise NewConnectionError(\n\u001b[1;32m--> 180\u001b[1;33m                 self, \"Failed to establish a new connection: %s\" % e)\n\u001b[0m\u001b[0;32m    181\u001b[0m \u001b[1;33m\u001b[0m\u001b[0m\n",
      "\u001b[1;31mNewConnectionError\u001b[0m: <urllib3.connection.HTTPConnection object at 0x000001E7A88E46D8>: Failed to establish a new connection: [WinError 10061] No connection could be made because the target machine actively refused it",
      "\nDuring handling of the above exception, another exception occurred:\n",
      "\u001b[1;31mMaxRetryError\u001b[0m                             Traceback (most recent call last)",
      "\u001b[1;32m<ipython-input-17-b6b406170ee2>\u001b[0m in \u001b[0;36m<module>\u001b[1;34m()\u001b[0m\n\u001b[0;32m     36\u001b[0m \u001b[1;33m\u001b[0m\u001b[0m\n\u001b[0;32m     37\u001b[0m     \u001b[1;31m#lets try to get the Name of the APP First\u001b[0m\u001b[1;33m\u001b[0m\u001b[1;33m\u001b[0m\u001b[0m\n\u001b[1;32m---> 38\u001b[1;33m     \u001b[0mdata\u001b[0m \u001b[1;33m=\u001b[0m \u001b[0mbrowser\u001b[0m\u001b[1;33m.\u001b[0m\u001b[0mpage_source\u001b[0m\u001b[1;33m\u001b[0m\u001b[0m\n\u001b[0m\u001b[0;32m     39\u001b[0m     \u001b[0msoup\u001b[0m \u001b[1;33m=\u001b[0m \u001b[0mBeautifulSoup\u001b[0m\u001b[1;33m(\u001b[0m\u001b[0mdata\u001b[0m\u001b[1;33m,\u001b[0m \u001b[1;34m\"html.parser\"\u001b[0m\u001b[1;33m)\u001b[0m\u001b[1;33m\u001b[0m\u001b[0m\n\u001b[0;32m     40\u001b[0m     \u001b[1;31m#Get H1\u001b[0m\u001b[1;33m\u001b[0m\u001b[1;33m\u001b[0m\u001b[0m\n",
      "\u001b[1;32mC:\\Program Files\\Anaconda3\\lib\\site-packages\\selenium\\webdriver\\remote\\webdriver.py\u001b[0m in \u001b[0;36mpage_source\u001b[1;34m(self)\u001b[0m\n\u001b[0;32m    676\u001b[0m             \u001b[0mdriver\u001b[0m\u001b[1;33m.\u001b[0m\u001b[0mpage_source\u001b[0m\u001b[1;33m\u001b[0m\u001b[0m\n\u001b[0;32m    677\u001b[0m         \"\"\"\n\u001b[1;32m--> 678\u001b[1;33m         \u001b[1;32mreturn\u001b[0m \u001b[0mself\u001b[0m\u001b[1;33m.\u001b[0m\u001b[0mexecute\u001b[0m\u001b[1;33m(\u001b[0m\u001b[0mCommand\u001b[0m\u001b[1;33m.\u001b[0m\u001b[0mGET_PAGE_SOURCE\u001b[0m\u001b[1;33m)\u001b[0m\u001b[1;33m[\u001b[0m\u001b[1;34m'value'\u001b[0m\u001b[1;33m]\u001b[0m\u001b[1;33m\u001b[0m\u001b[0m\n\u001b[0m\u001b[0;32m    679\u001b[0m \u001b[1;33m\u001b[0m\u001b[0m\n\u001b[0;32m    680\u001b[0m     \u001b[1;32mdef\u001b[0m \u001b[0mclose\u001b[0m\u001b[1;33m(\u001b[0m\u001b[0mself\u001b[0m\u001b[1;33m)\u001b[0m\u001b[1;33m:\u001b[0m\u001b[1;33m\u001b[0m\u001b[0m\n",
      "\u001b[1;32mC:\\Program Files\\Anaconda3\\lib\\site-packages\\selenium\\webdriver\\remote\\webdriver.py\u001b[0m in \u001b[0;36mexecute\u001b[1;34m(self, driver_command, params)\u001b[0m\n\u001b[0;32m    316\u001b[0m \u001b[1;33m\u001b[0m\u001b[0m\n\u001b[0;32m    317\u001b[0m         \u001b[0mparams\u001b[0m \u001b[1;33m=\u001b[0m \u001b[0mself\u001b[0m\u001b[1;33m.\u001b[0m\u001b[0m_wrap_value\u001b[0m\u001b[1;33m(\u001b[0m\u001b[0mparams\u001b[0m\u001b[1;33m)\u001b[0m\u001b[1;33m\u001b[0m\u001b[0m\n\u001b[1;32m--> 318\u001b[1;33m         \u001b[0mresponse\u001b[0m \u001b[1;33m=\u001b[0m \u001b[0mself\u001b[0m\u001b[1;33m.\u001b[0m\u001b[0mcommand_executor\u001b[0m\u001b[1;33m.\u001b[0m\u001b[0mexecute\u001b[0m\u001b[1;33m(\u001b[0m\u001b[0mdriver_command\u001b[0m\u001b[1;33m,\u001b[0m \u001b[0mparams\u001b[0m\u001b[1;33m)\u001b[0m\u001b[1;33m\u001b[0m\u001b[0m\n\u001b[0m\u001b[0;32m    319\u001b[0m         \u001b[1;32mif\u001b[0m \u001b[0mresponse\u001b[0m\u001b[1;33m:\u001b[0m\u001b[1;33m\u001b[0m\u001b[0m\n\u001b[0;32m    320\u001b[0m             \u001b[0mself\u001b[0m\u001b[1;33m.\u001b[0m\u001b[0merror_handler\u001b[0m\u001b[1;33m.\u001b[0m\u001b[0mcheck_response\u001b[0m\u001b[1;33m(\u001b[0m\u001b[0mresponse\u001b[0m\u001b[1;33m)\u001b[0m\u001b[1;33m\u001b[0m\u001b[0m\n",
      "\u001b[1;32mC:\\Program Files\\Anaconda3\\lib\\site-packages\\selenium\\webdriver\\remote\\remote_connection.py\u001b[0m in \u001b[0;36mexecute\u001b[1;34m(self, command, params)\u001b[0m\n\u001b[0;32m    373\u001b[0m         \u001b[0mdata\u001b[0m \u001b[1;33m=\u001b[0m \u001b[0mutils\u001b[0m\u001b[1;33m.\u001b[0m\u001b[0mdump_json\u001b[0m\u001b[1;33m(\u001b[0m\u001b[0mparams\u001b[0m\u001b[1;33m)\u001b[0m\u001b[1;33m\u001b[0m\u001b[0m\n\u001b[0;32m    374\u001b[0m         \u001b[0murl\u001b[0m \u001b[1;33m=\u001b[0m \u001b[1;34m'%s%s'\u001b[0m \u001b[1;33m%\u001b[0m \u001b[1;33m(\u001b[0m\u001b[0mself\u001b[0m\u001b[1;33m.\u001b[0m\u001b[0m_url\u001b[0m\u001b[1;33m,\u001b[0m \u001b[0mpath\u001b[0m\u001b[1;33m)\u001b[0m\u001b[1;33m\u001b[0m\u001b[0m\n\u001b[1;32m--> 375\u001b[1;33m         \u001b[1;32mreturn\u001b[0m \u001b[0mself\u001b[0m\u001b[1;33m.\u001b[0m\u001b[0m_request\u001b[0m\u001b[1;33m(\u001b[0m\u001b[0mcommand_info\u001b[0m\u001b[1;33m[\u001b[0m\u001b[1;36m0\u001b[0m\u001b[1;33m]\u001b[0m\u001b[1;33m,\u001b[0m \u001b[0murl\u001b[0m\u001b[1;33m,\u001b[0m \u001b[0mbody\u001b[0m\u001b[1;33m=\u001b[0m\u001b[0mdata\u001b[0m\u001b[1;33m)\u001b[0m\u001b[1;33m\u001b[0m\u001b[0m\n\u001b[0m\u001b[0;32m    376\u001b[0m \u001b[1;33m\u001b[0m\u001b[0m\n\u001b[0;32m    377\u001b[0m     \u001b[1;32mdef\u001b[0m \u001b[0m_request\u001b[0m\u001b[1;33m(\u001b[0m\u001b[0mself\u001b[0m\u001b[1;33m,\u001b[0m \u001b[0mmethod\u001b[0m\u001b[1;33m,\u001b[0m \u001b[0murl\u001b[0m\u001b[1;33m,\u001b[0m \u001b[0mbody\u001b[0m\u001b[1;33m=\u001b[0m\u001b[1;32mNone\u001b[0m\u001b[1;33m)\u001b[0m\u001b[1;33m:\u001b[0m\u001b[1;33m\u001b[0m\u001b[0m\n",
      "\u001b[1;32mC:\\Program Files\\Anaconda3\\lib\\site-packages\\selenium\\webdriver\\remote\\remote_connection.py\u001b[0m in \u001b[0;36m_request\u001b[1;34m(self, method, url, body)\u001b[0m\n\u001b[0;32m    395\u001b[0m             \u001b[1;32mif\u001b[0m \u001b[0mbody\u001b[0m \u001b[1;32mand\u001b[0m \u001b[0mmethod\u001b[0m \u001b[1;33m!=\u001b[0m \u001b[1;34m'POST'\u001b[0m \u001b[1;32mand\u001b[0m \u001b[0mmethod\u001b[0m \u001b[1;33m!=\u001b[0m \u001b[1;34m'PUT'\u001b[0m\u001b[1;33m:\u001b[0m\u001b[1;33m\u001b[0m\u001b[0m\n\u001b[0;32m    396\u001b[0m                 \u001b[0mbody\u001b[0m \u001b[1;33m=\u001b[0m \u001b[1;32mNone\u001b[0m\u001b[1;33m\u001b[0m\u001b[0m\n\u001b[1;32m--> 397\u001b[1;33m             \u001b[0mresp\u001b[0m \u001b[1;33m=\u001b[0m \u001b[0mself\u001b[0m\u001b[1;33m.\u001b[0m\u001b[0m_conn\u001b[0m\u001b[1;33m.\u001b[0m\u001b[0mrequest\u001b[0m\u001b[1;33m(\u001b[0m\u001b[0mmethod\u001b[0m\u001b[1;33m,\u001b[0m \u001b[0murl\u001b[0m\u001b[1;33m,\u001b[0m \u001b[0mbody\u001b[0m\u001b[1;33m=\u001b[0m\u001b[0mbody\u001b[0m\u001b[1;33m,\u001b[0m \u001b[0mheaders\u001b[0m\u001b[1;33m=\u001b[0m\u001b[0mheaders\u001b[0m\u001b[1;33m)\u001b[0m\u001b[1;33m\u001b[0m\u001b[0m\n\u001b[0m\u001b[0;32m    398\u001b[0m \u001b[1;33m\u001b[0m\u001b[0m\n\u001b[0;32m    399\u001b[0m             \u001b[0mstatuscode\u001b[0m \u001b[1;33m=\u001b[0m \u001b[0mresp\u001b[0m\u001b[1;33m.\u001b[0m\u001b[0mstatus\u001b[0m\u001b[1;33m\u001b[0m\u001b[0m\n",
      "\u001b[1;32mC:\\Program Files\\Anaconda3\\lib\\site-packages\\urllib3\\request.py\u001b[0m in \u001b[0;36mrequest\u001b[1;34m(self, method, url, fields, headers, **urlopen_kw)\u001b[0m\n\u001b[0;32m     66\u001b[0m             return self.request_encode_url(method, url, fields=fields,\n\u001b[0;32m     67\u001b[0m                                            \u001b[0mheaders\u001b[0m\u001b[1;33m=\u001b[0m\u001b[0mheaders\u001b[0m\u001b[1;33m,\u001b[0m\u001b[1;33m\u001b[0m\u001b[0m\n\u001b[1;32m---> 68\u001b[1;33m                                            **urlopen_kw)\n\u001b[0m\u001b[0;32m     69\u001b[0m         \u001b[1;32melse\u001b[0m\u001b[1;33m:\u001b[0m\u001b[1;33m\u001b[0m\u001b[0m\n\u001b[0;32m     70\u001b[0m             return self.request_encode_body(method, url, fields=fields,\n",
      "\u001b[1;32mC:\\Program Files\\Anaconda3\\lib\\site-packages\\urllib3\\request.py\u001b[0m in \u001b[0;36mrequest_encode_url\u001b[1;34m(self, method, url, fields, headers, **urlopen_kw)\u001b[0m\n\u001b[0;32m     87\u001b[0m             \u001b[0murl\u001b[0m \u001b[1;33m+=\u001b[0m \u001b[1;34m'?'\u001b[0m \u001b[1;33m+\u001b[0m \u001b[0murlencode\u001b[0m\u001b[1;33m(\u001b[0m\u001b[0mfields\u001b[0m\u001b[1;33m)\u001b[0m\u001b[1;33m\u001b[0m\u001b[0m\n\u001b[0;32m     88\u001b[0m \u001b[1;33m\u001b[0m\u001b[0m\n\u001b[1;32m---> 89\u001b[1;33m         \u001b[1;32mreturn\u001b[0m \u001b[0mself\u001b[0m\u001b[1;33m.\u001b[0m\u001b[0murlopen\u001b[0m\u001b[1;33m(\u001b[0m\u001b[0mmethod\u001b[0m\u001b[1;33m,\u001b[0m \u001b[0murl\u001b[0m\u001b[1;33m,\u001b[0m \u001b[1;33m**\u001b[0m\u001b[0mextra_kw\u001b[0m\u001b[1;33m)\u001b[0m\u001b[1;33m\u001b[0m\u001b[0m\n\u001b[0m\u001b[0;32m     90\u001b[0m \u001b[1;33m\u001b[0m\u001b[0m\n\u001b[0;32m     91\u001b[0m     def request_encode_body(self, method, url, fields=None, headers=None,\n",
      "\u001b[1;32mC:\\Program Files\\Anaconda3\\lib\\site-packages\\urllib3\\poolmanager.py\u001b[0m in \u001b[0;36murlopen\u001b[1;34m(self, method, url, redirect, **kw)\u001b[0m\n\u001b[0;32m    320\u001b[0m             \u001b[0mresponse\u001b[0m \u001b[1;33m=\u001b[0m \u001b[0mconn\u001b[0m\u001b[1;33m.\u001b[0m\u001b[0murlopen\u001b[0m\u001b[1;33m(\u001b[0m\u001b[0mmethod\u001b[0m\u001b[1;33m,\u001b[0m \u001b[0murl\u001b[0m\u001b[1;33m,\u001b[0m \u001b[1;33m**\u001b[0m\u001b[0mkw\u001b[0m\u001b[1;33m)\u001b[0m\u001b[1;33m\u001b[0m\u001b[0m\n\u001b[0;32m    321\u001b[0m         \u001b[1;32melse\u001b[0m\u001b[1;33m:\u001b[0m\u001b[1;33m\u001b[0m\u001b[0m\n\u001b[1;32m--> 322\u001b[1;33m             \u001b[0mresponse\u001b[0m \u001b[1;33m=\u001b[0m \u001b[0mconn\u001b[0m\u001b[1;33m.\u001b[0m\u001b[0murlopen\u001b[0m\u001b[1;33m(\u001b[0m\u001b[0mmethod\u001b[0m\u001b[1;33m,\u001b[0m \u001b[0mu\u001b[0m\u001b[1;33m.\u001b[0m\u001b[0mrequest_uri\u001b[0m\u001b[1;33m,\u001b[0m \u001b[1;33m**\u001b[0m\u001b[0mkw\u001b[0m\u001b[1;33m)\u001b[0m\u001b[1;33m\u001b[0m\u001b[0m\n\u001b[0m\u001b[0;32m    323\u001b[0m \u001b[1;33m\u001b[0m\u001b[0m\n\u001b[0;32m    324\u001b[0m         \u001b[0mredirect_location\u001b[0m \u001b[1;33m=\u001b[0m \u001b[0mredirect\u001b[0m \u001b[1;32mand\u001b[0m \u001b[0mresponse\u001b[0m\u001b[1;33m.\u001b[0m\u001b[0mget_redirect_location\u001b[0m\u001b[1;33m(\u001b[0m\u001b[1;33m)\u001b[0m\u001b[1;33m\u001b[0m\u001b[0m\n",
      "\u001b[1;32mC:\\Program Files\\Anaconda3\\lib\\site-packages\\urllib3\\connectionpool.py\u001b[0m in \u001b[0;36murlopen\u001b[1;34m(self, method, url, body, headers, retries, redirect, assert_same_host, timeout, pool_timeout, release_conn, chunked, body_pos, **response_kw)\u001b[0m\n\u001b[0;32m    665\u001b[0m                                 \u001b[0mtimeout\u001b[0m\u001b[1;33m=\u001b[0m\u001b[0mtimeout\u001b[0m\u001b[1;33m,\u001b[0m \u001b[0mpool_timeout\u001b[0m\u001b[1;33m=\u001b[0m\u001b[0mpool_timeout\u001b[0m\u001b[1;33m,\u001b[0m\u001b[1;33m\u001b[0m\u001b[0m\n\u001b[0;32m    666\u001b[0m                                 \u001b[0mrelease_conn\u001b[0m\u001b[1;33m=\u001b[0m\u001b[0mrelease_conn\u001b[0m\u001b[1;33m,\u001b[0m \u001b[0mbody_pos\u001b[0m\u001b[1;33m=\u001b[0m\u001b[0mbody_pos\u001b[0m\u001b[1;33m,\u001b[0m\u001b[1;33m\u001b[0m\u001b[0m\n\u001b[1;32m--> 667\u001b[1;33m                                 **response_kw)\n\u001b[0m\u001b[0;32m    668\u001b[0m \u001b[1;33m\u001b[0m\u001b[0m\n\u001b[0;32m    669\u001b[0m         \u001b[1;32mdef\u001b[0m \u001b[0mdrain_and_release_conn\u001b[0m\u001b[1;33m(\u001b[0m\u001b[0mresponse\u001b[0m\u001b[1;33m)\u001b[0m\u001b[1;33m:\u001b[0m\u001b[1;33m\u001b[0m\u001b[0m\n",
      "\u001b[1;32mC:\\Program Files\\Anaconda3\\lib\\site-packages\\urllib3\\connectionpool.py\u001b[0m in \u001b[0;36murlopen\u001b[1;34m(self, method, url, body, headers, retries, redirect, assert_same_host, timeout, pool_timeout, release_conn, chunked, body_pos, **response_kw)\u001b[0m\n\u001b[0;32m    665\u001b[0m                                 \u001b[0mtimeout\u001b[0m\u001b[1;33m=\u001b[0m\u001b[0mtimeout\u001b[0m\u001b[1;33m,\u001b[0m \u001b[0mpool_timeout\u001b[0m\u001b[1;33m=\u001b[0m\u001b[0mpool_timeout\u001b[0m\u001b[1;33m,\u001b[0m\u001b[1;33m\u001b[0m\u001b[0m\n\u001b[0;32m    666\u001b[0m                                 \u001b[0mrelease_conn\u001b[0m\u001b[1;33m=\u001b[0m\u001b[0mrelease_conn\u001b[0m\u001b[1;33m,\u001b[0m \u001b[0mbody_pos\u001b[0m\u001b[1;33m=\u001b[0m\u001b[0mbody_pos\u001b[0m\u001b[1;33m,\u001b[0m\u001b[1;33m\u001b[0m\u001b[0m\n\u001b[1;32m--> 667\u001b[1;33m                                 **response_kw)\n\u001b[0m\u001b[0;32m    668\u001b[0m \u001b[1;33m\u001b[0m\u001b[0m\n\u001b[0;32m    669\u001b[0m         \u001b[1;32mdef\u001b[0m \u001b[0mdrain_and_release_conn\u001b[0m\u001b[1;33m(\u001b[0m\u001b[0mresponse\u001b[0m\u001b[1;33m)\u001b[0m\u001b[1;33m:\u001b[0m\u001b[1;33m\u001b[0m\u001b[0m\n",
      "\u001b[1;32mC:\\Program Files\\Anaconda3\\lib\\site-packages\\urllib3\\connectionpool.py\u001b[0m in \u001b[0;36murlopen\u001b[1;34m(self, method, url, body, headers, retries, redirect, assert_same_host, timeout, pool_timeout, release_conn, chunked, body_pos, **response_kw)\u001b[0m\n\u001b[0;32m    665\u001b[0m                                 \u001b[0mtimeout\u001b[0m\u001b[1;33m=\u001b[0m\u001b[0mtimeout\u001b[0m\u001b[1;33m,\u001b[0m \u001b[0mpool_timeout\u001b[0m\u001b[1;33m=\u001b[0m\u001b[0mpool_timeout\u001b[0m\u001b[1;33m,\u001b[0m\u001b[1;33m\u001b[0m\u001b[0m\n\u001b[0;32m    666\u001b[0m                                 \u001b[0mrelease_conn\u001b[0m\u001b[1;33m=\u001b[0m\u001b[0mrelease_conn\u001b[0m\u001b[1;33m,\u001b[0m \u001b[0mbody_pos\u001b[0m\u001b[1;33m=\u001b[0m\u001b[0mbody_pos\u001b[0m\u001b[1;33m,\u001b[0m\u001b[1;33m\u001b[0m\u001b[0m\n\u001b[1;32m--> 667\u001b[1;33m                                 **response_kw)\n\u001b[0m\u001b[0;32m    668\u001b[0m \u001b[1;33m\u001b[0m\u001b[0m\n\u001b[0;32m    669\u001b[0m         \u001b[1;32mdef\u001b[0m \u001b[0mdrain_and_release_conn\u001b[0m\u001b[1;33m(\u001b[0m\u001b[0mresponse\u001b[0m\u001b[1;33m)\u001b[0m\u001b[1;33m:\u001b[0m\u001b[1;33m\u001b[0m\u001b[0m\n",
      "\u001b[1;32mC:\\Program Files\\Anaconda3\\lib\\site-packages\\urllib3\\connectionpool.py\u001b[0m in \u001b[0;36murlopen\u001b[1;34m(self, method, url, body, headers, retries, redirect, assert_same_host, timeout, pool_timeout, release_conn, chunked, body_pos, **response_kw)\u001b[0m\n\u001b[0;32m    636\u001b[0m \u001b[1;33m\u001b[0m\u001b[0m\n\u001b[0;32m    637\u001b[0m             retries = retries.increment(method, url, error=e, _pool=self,\n\u001b[1;32m--> 638\u001b[1;33m                                         _stacktrace=sys.exc_info()[2])\n\u001b[0m\u001b[0;32m    639\u001b[0m             \u001b[0mretries\u001b[0m\u001b[1;33m.\u001b[0m\u001b[0msleep\u001b[0m\u001b[1;33m(\u001b[0m\u001b[1;33m)\u001b[0m\u001b[1;33m\u001b[0m\u001b[0m\n\u001b[0;32m    640\u001b[0m \u001b[1;33m\u001b[0m\u001b[0m\n",
      "\u001b[1;32mC:\\Program Files\\Anaconda3\\lib\\site-packages\\urllib3\\util\\retry.py\u001b[0m in \u001b[0;36mincrement\u001b[1;34m(self, method, url, response, error, _pool, _stacktrace)\u001b[0m\n\u001b[0;32m    396\u001b[0m \u001b[1;33m\u001b[0m\u001b[0m\n\u001b[0;32m    397\u001b[0m         \u001b[1;32mif\u001b[0m \u001b[0mnew_retry\u001b[0m\u001b[1;33m.\u001b[0m\u001b[0mis_exhausted\u001b[0m\u001b[1;33m(\u001b[0m\u001b[1;33m)\u001b[0m\u001b[1;33m:\u001b[0m\u001b[1;33m\u001b[0m\u001b[0m\n\u001b[1;32m--> 398\u001b[1;33m             \u001b[1;32mraise\u001b[0m \u001b[0mMaxRetryError\u001b[0m\u001b[1;33m(\u001b[0m\u001b[0m_pool\u001b[0m\u001b[1;33m,\u001b[0m \u001b[0murl\u001b[0m\u001b[1;33m,\u001b[0m \u001b[0merror\u001b[0m \u001b[1;32mor\u001b[0m \u001b[0mResponseError\u001b[0m\u001b[1;33m(\u001b[0m\u001b[0mcause\u001b[0m\u001b[1;33m)\u001b[0m\u001b[1;33m)\u001b[0m\u001b[1;33m\u001b[0m\u001b[0m\n\u001b[0m\u001b[0;32m    399\u001b[0m \u001b[1;33m\u001b[0m\u001b[0m\n\u001b[0;32m    400\u001b[0m         \u001b[0mlog\u001b[0m\u001b[1;33m.\u001b[0m\u001b[0mdebug\u001b[0m\u001b[1;33m(\u001b[0m\u001b[1;34m\"Incremented Retry for (url='%s'): %r\"\u001b[0m\u001b[1;33m,\u001b[0m \u001b[0murl\u001b[0m\u001b[1;33m,\u001b[0m \u001b[0mnew_retry\u001b[0m\u001b[1;33m)\u001b[0m\u001b[1;33m\u001b[0m\u001b[0m\n",
      "\u001b[1;31mMaxRetryError\u001b[0m: HTTPConnectionPool(host='127.0.0.1', port=63270): Max retries exceeded with url: /session/488396206f3c3dd587ddb25a9a06a84d/source (Caused by NewConnectionError('<urllib3.connection.HTTPConnection object at 0x000001E7A88E46D8>: Failed to establish a new connection: [WinError 10061] No connection could be made because the target machine actively refused it',))"
     ]
    }
   ],
   "source": [
    "w = csv.writer(open('reviews.csv','w'))\n",
    "reviewWriter = csv.writer(open('reviews.csv', 'wb'), delimiter=' ',quotechar=' ', quoting=csv.QUOTE_MINIMAL)\n",
    "for url in URLList:\n",
    "    browser.get(url)\n",
    "    print(\"Now reading ->\", url)\n",
    "    time.sleep(10)\n",
    "    #Lets try to click the \"Read All Reviews\"\n",
    "    #//*[@id=\"fcxH9b\"]/div[4]/c-wiz/div/div[2]/div/div[1]/div/div/div[1]/div[6]/div/content/span\n",
    "    xpath=browser.find_element_by_xpath((\"//*[@id='fcxH9b']/div[4]/c-wiz/div/div[2]/div/div[1]/div/div/div[1]/div[6]/div/content/span\"));\n",
    "    print(xpath)\n",
    "    xpath.click()\n",
    "    time.sleep(10)\n",
    "    #now lets try to scroll down the page - This page load when we scroll down for more results\n",
    "    SCROLL_PAUSE_TIME = 10\n",
    "    i = 0 # later we can change it to some other bigger number\n",
    "    # Get scroll height\n",
    "    last_height = browser.execute_script(\"return document.body.scrollHeight\")\n",
    "    while True:\n",
    "        #lets try to click the full review button if its visible\n",
    "        full_review_path = \"//*[@id='fcxH9b']/div[4]/c-wiz[2]/div/div[2]/div/div[1]/div/div/div[1]/div[2]/div/div[9]/div/div[2]/div[2]/span[1]/div/button\"\n",
    "        theButtons = browser.find_elements_by_xpath(\"//*[contains(@class,'LkLjZd ScJHi OzU4dc')]\");\n",
    "    \n",
    "        click_on_show_more(browser)\n",
    "\n",
    "        # Scroll down to bottom\n",
    "        browser.execute_script(\"window.scrollTo(0, document.body.scrollHeight);\")\n",
    "        time.sleep(SCROLL_PAUSE_TIME)\n",
    "        scroll_to_div('W4P4ne', browser)\n",
    "        # Calculate new scroll height and compare with last scroll height\n",
    "        new_height = browser.execute_script(\"return document.body.scrollHeight\")\n",
    "        i = i + 1\n",
    "        if new_height == last_height or i == 500: # or i == 10\n",
    "            print('Will exit here')\n",
    "            break\n",
    "        last_height = new_height\n",
    "        \n",
    "    #lets try to get the Name of the APP First\n",
    "    data = browser.page_source\n",
    "    soup = BeautifulSoup(data, \"html.parser\")\n",
    "    #Get H1\n",
    "    appTitleSpan = soup.find(\"h1\",{\"itemprop\":\"name\"})\n",
    "    appTitleName = appTitleSpan.find(\"span\").text\n",
    "    print(appTitleName)\n",
    "    reivewSpan = soup.find_all(\"div\",{\"class\":review_section_classname})\n",
    "    \n",
    "    for item in reivewSpan:\n",
    "        review = {}\n",
    "\n",
    "        helpful_count = item.find(\"div\", {\"class\":helpful_count_classname})\n",
    "        rating_count = item.find_all(\"div\", {\"class\":rating_count_classname})\n",
    "        date = item.find(\"span\", {\"class\":date_classname})    \n",
    "        full_review = item.find(\"span\", {\"jsname\":full_review_classname})\n",
    "        teaser_review = item.find(\"span\", {\"jsname\":teaser_review_classname})\n",
    "        review['app_name'] = appTitleName\n",
    "        review[\"helpful_count\"] = helpful_count.get_text()\n",
    "        review[\"rating_count\"] = len(list(rating_count))\n",
    "        review[\"date\"] = date.get_text()\n",
    "    \n",
    "        if full_review is not None:\n",
    "            review[\"full_review\"] = full_review.get_text()\n",
    "        review[\"teaser_review\"] = teaser_review.get_text()\n",
    "    \n",
    "        print(review)\n",
    "        \n",
    "        collection.insert_one(review)\n",
    "        #reviewWriter.writerow(\"%s, %s, %s, %s, %s, %s\\n\" % \\\n",
    "        #       (str(review['app_name']), str(review['helpful_count']), str(review['rating_count']),str(review['date']),str(review['full_review']),str(review['teaser_review'])))\n",
    "    "
   ]
  },
  {
   "cell_type": "code",
   "execution_count": 14,
   "metadata": {
    "collapsed": true
   },
   "outputs": [],
   "source": [
    "browser.quit()"
   ]
  },
  {
   "cell_type": "code",
   "execution_count": null,
   "metadata": {
    "collapsed": true
   },
   "outputs": [],
   "source": []
  }
 ],
 "metadata": {
  "kernelspec": {
   "display_name": "Python 3",
   "language": "python",
   "name": "python3"
  },
  "language_info": {
   "codemirror_mode": {
    "name": "ipython",
    "version": 3
   },
   "file_extension": ".py",
   "mimetype": "text/x-python",
   "name": "python",
   "nbconvert_exporter": "python",
   "pygments_lexer": "ipython3",
   "version": "3.6.1"
  }
 },
 "nbformat": 4,
 "nbformat_minor": 2
}
